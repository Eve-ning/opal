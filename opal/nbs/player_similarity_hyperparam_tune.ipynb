{
 "cells": [
  {
   "cell_type": "markdown",
   "source": [
    "# Using Scikit-Surprise\n",
    "\n",
    "Surprise!\n",
    "\n",
    "It's a well-developed CF wrapper that handles what we've just discovered, and more.\n",
    "\n",
    "Essentially it has created everything we needed.\n",
    "\n",
    "## Approach\n",
    "\n",
    "If you recall, we don't use the full dataset as it's extremely large.\n",
    "Thus, by taking a small representative sample, we can run **quick** tests that estimates the population behaviour.\n",
    "\n",
    "Then, we narrow down the best parameters after we select the best few algorithms.\n",
    "\n",
    "## Data Preparation\n",
    "\n",
    "As usual, we take a representative sample from the set.\n",
    "\n",
    "We also alter it to make it suitable for `surprise`."
   ],
   "metadata": {
    "collapsed": false,
    "pycharm": {
     "name": "#%% md\n"
    }
   }
  },
  {
   "cell_type": "code",
   "execution_count": 1,
   "outputs": [
    {
     "name": "stdout",
     "output_type": "stream",
     "text": [
      "by_score_year 887452 -> 541019\n",
      "by_sr 541019 -> 481548\n",
      "by_unpopular_maps 481548 -> 279765\n",
      "by_unpopular_plays 279765 -> 75055\n",
      "by_acc_filter 75055 -> 74961\n",
      "by_remove_mod 74961 -> 71327\n",
      "Users Left: 291 | Beatmaps Left: 718\n"
     ]
    }
   ],
   "source": [
    "import warnings\n",
    "from pathlib import Path\n",
    "\n",
    "import pandas as pd\n",
    "from sklearn.preprocessing import QuantileTransformer\n",
    "\n",
    "from opal.score.dataset import Dataset\n",
    "from opal.score.preprocessing_dynamic import PreprocessingDynamic\n",
    "\n",
    "warnings.filterwarnings('ignore')\n",
    "\n",
    "data_path = Path(\"../../data/osu/scores/\")\n",
    "\n",
    "df = PreprocessingDynamic(\n",
    "    Dataset(data_path, \"top1k\").joined_filtered_df,\n",
    "    unpopular_maps_thres=0.2,\n",
    "    unpopular_plays_thres=0.2,\n",
    "    sr_min_thres=2.5,\n",
    "    acc_filter=(0.85, 1),\n",
    "    score_filter=None\n",
    ").filter(calc_acc=True)\n",
    "df: pd.DataFrame\n",
    "df = df.rename({'accuracy': 'acc',\n",
    "                'map_id': 'mid'}, axis=1)\n",
    "qt = QuantileTransformer()\n",
    "df[['acc_qt']] = qt.fit_transform(df['acc'].to_numpy().reshape(-1, 1))\n",
    "df['uid'] = df['user_id'].astype(str) + \"/\" + df['year'].astype(str)\n",
    "df = df[['uid', 'mid', 'acc']]\n",
    "df = df.reset_index(drop=True)"
   ],
   "metadata": {
    "collapsed": false,
    "pycharm": {
     "name": "#%%\n"
    }
   }
  },
  {
   "cell_type": "markdown",
   "source": [
    "`surprise` expects the input to be in: `[uid, iid, rating]`.\n",
    "- `uid == player_id`\n",
    "- `iid == map_id`\n",
    "- `rating == accuracy/score`"
   ],
   "metadata": {
    "collapsed": false,
    "pycharm": {
     "name": "#%% md\n"
    }
   }
  },
  {
   "cell_type": "code",
   "execution_count": 2,
   "outputs": [
    {
     "data": {
      "text/plain": "             uid     mid       acc\n0  10316554/2019  259067  0.917764\n1  10333427/2019  259067  0.916746\n2  10242770/2019  259067  0.918649\n3  10332424/2019  259067  0.909519\n4  13945196/2019  259067  0.906272",
      "text/html": "<div>\n<style scoped>\n    .dataframe tbody tr th:only-of-type {\n        vertical-align: middle;\n    }\n\n    .dataframe tbody tr th {\n        vertical-align: top;\n    }\n\n    .dataframe thead th {\n        text-align: right;\n    }\n</style>\n<table border=\"1\" class=\"dataframe\">\n  <thead>\n    <tr style=\"text-align: right;\">\n      <th></th>\n      <th>uid</th>\n      <th>mid</th>\n      <th>acc</th>\n    </tr>\n  </thead>\n  <tbody>\n    <tr>\n      <th>0</th>\n      <td>10316554/2019</td>\n      <td>259067</td>\n      <td>0.917764</td>\n    </tr>\n    <tr>\n      <th>1</th>\n      <td>10333427/2019</td>\n      <td>259067</td>\n      <td>0.916746</td>\n    </tr>\n    <tr>\n      <th>2</th>\n      <td>10242770/2019</td>\n      <td>259067</td>\n      <td>0.918649</td>\n    </tr>\n    <tr>\n      <th>3</th>\n      <td>10332424/2019</td>\n      <td>259067</td>\n      <td>0.909519</td>\n    </tr>\n    <tr>\n      <th>4</th>\n      <td>13945196/2019</td>\n      <td>259067</td>\n      <td>0.906272</td>\n    </tr>\n  </tbody>\n</table>\n</div>"
     },
     "execution_count": 2,
     "metadata": {},
     "output_type": "execute_result"
    }
   ],
   "source": [
    "df.head()"
   ],
   "metadata": {
    "collapsed": false,
    "pycharm": {
     "name": "#%%\n"
    }
   }
  },
  {
   "cell_type": "markdown",
   "source": [
    "Here, we prep the input to be in the (0, 1) range."
   ],
   "metadata": {
    "collapsed": false,
    "pycharm": {
     "name": "#%% md\n"
    }
   }
  },
  {
   "cell_type": "code",
   "execution_count": 3,
   "outputs": [],
   "source": [
    "from surprise import Reader, Dataset as DatasetSP\n",
    "\n",
    "# A reader is still needed but only the rating_scale param is required.\n",
    "reader = Reader(rating_scale=(0, 1))\n",
    "# The columns must correspond to user id, item id and ratings (in that order).\n",
    "data = DatasetSP.load_from_df(df, reader)"
   ],
   "metadata": {
    "collapsed": false,
    "pycharm": {
     "name": "#%%\n"
    }
   }
  },
  {
   "cell_type": "markdown",
   "source": [
    "Finally, we prep **all suitable algorithms** and evaluate all of them.\n",
    "\n",
    "The evaluation uses:\n",
    "- CV = 4\n",
    "- Random Search Iteration = 30.\n",
    "\n",
    "We removed some algorithms as they proved to be extremely unsuitable.\n",
    "\n",
    "We saw these results\n",
    "\n",
    "- 1.88% KNNBasic\n",
    "- 1.61% KNNWithMeans\n",
    "- 1.61% KNNWithZScore\n",
    "- 1.63% KNNBaseline\n",
    "- 3.49% NormalPredictor\n",
    "- 1.75% SVD\n",
    "- 1.78% SVDpp\n",
    "- 6.17% NMF\n",
    "- 2.26% SlopeOne\n",
    "- 97.05% CoClustering"
   ],
   "metadata": {
    "collapsed": false,
    "pycharm": {
     "name": "#%% md\n"
    }
   }
  },
  {
   "cell_type": "code",
   "execution_count": 5,
   "outputs": [
    {
     "name": "stdout",
     "output_type": "stream",
     "text": [
      "Fitting for <class 'surprise.prediction_algorithms.knns.KNNBasic'>\n"
     ]
    },
    {
     "name": "stderr",
     "output_type": "stream",
     "text": [
      "[Parallel(n_jobs=12)]: Using backend LokyBackend with 12 concurrent workers.\n",
      "[Parallel(n_jobs=12)]: Done  26 tasks      | elapsed:   12.1s\n",
      "[Parallel(n_jobs=12)]: Done 120 out of 120 | elapsed:   37.0s finished\n",
      "[Parallel(n_jobs=12)]: Using backend LokyBackend with 12 concurrent workers.\n"
     ]
    },
    {
     "name": "stdout",
     "output_type": "stream",
     "text": [
      "Fitting for <class 'surprise.prediction_algorithms.knns.KNNWithMeans'>\n"
     ]
    },
    {
     "name": "stderr",
     "output_type": "stream",
     "text": [
      "[Parallel(n_jobs=12)]: Done  26 tasks      | elapsed:   10.5s\n",
      "[Parallel(n_jobs=12)]: Done 120 out of 120 | elapsed:   35.9s finished\n",
      "[Parallel(n_jobs=12)]: Using backend LokyBackend with 12 concurrent workers.\n"
     ]
    },
    {
     "name": "stdout",
     "output_type": "stream",
     "text": [
      "Fitting for <class 'surprise.prediction_algorithms.knns.KNNWithZScore'>\n"
     ]
    },
    {
     "name": "stderr",
     "output_type": "stream",
     "text": [
      "[Parallel(n_jobs=12)]: Done  26 tasks      | elapsed:   10.8s\n",
      "[Parallel(n_jobs=12)]: Done 120 out of 120 | elapsed:   37.1s finished\n"
     ]
    },
    {
     "name": "stdout",
     "output_type": "stream",
     "text": [
      "Fitting for <class 'surprise.prediction_algorithms.knns.KNNBaseline'>\n"
     ]
    },
    {
     "name": "stderr",
     "output_type": "stream",
     "text": [
      "[Parallel(n_jobs=12)]: Using backend LokyBackend with 12 concurrent workers.\n",
      "[Parallel(n_jobs=12)]: Done  26 tasks      | elapsed:   11.6s\n",
      "[Parallel(n_jobs=12)]: Done 120 out of 120 | elapsed:   39.3s finished\n",
      "[Parallel(n_jobs=12)]: Using backend LokyBackend with 12 concurrent workers.\n"
     ]
    },
    {
     "name": "stdout",
     "output_type": "stream",
     "text": [
      "Fitting for <class 'surprise.prediction_algorithms.matrix_factorization.SVD'>\n"
     ]
    },
    {
     "name": "stderr",
     "output_type": "stream",
     "text": [
      "[Parallel(n_jobs=12)]: Done  26 tasks      | elapsed:    3.0s\n",
      "[Parallel(n_jobs=12)]: Done 120 out of 120 | elapsed:   10.8s finished\n"
     ]
    }
   ],
   "source": [
    "from surprise.model_selection import RandomizedSearchCV\n",
    "from surprise.prediction_algorithms import KNNBasic, KNNWithMeans, KNNWithZScore, NormalPredictor, KNNBaseline, SVD, SVDpp, NMF, SlopeOne, CoClustering\n",
    "\n",
    "import numpy as np\n",
    "\n",
    "sim_options = {'name': ['msd'],\n",
    "               'min_support': range(5, 15),\n",
    "               'user_based': [False]}\n",
    "algo_param_grids = [\n",
    "    (KNNBasic, {'k': range(10, 30), 'sim_options': sim_options}),\n",
    "    (KNNWithMeans, {'k': range(10, 30), 'sim_options': sim_options}),\n",
    "    (KNNWithZScore, {'k': range(10, 30), 'sim_options': sim_options}),\n",
    "    (KNNBaseline, {'k': range(10, 30), 'sim_options': sim_options}),\n",
    "    # (NormalPredictor, {}),\n",
    "    (SVD, {'n_factors': range(10, 200, 10),\n",
    "           'lr_all': np.linspace(0.001, 0.1, 100),\n",
    "           'reg_all': np.linspace(0.01, 0.2, 20)}),\n",
    "    # (SVDpp, {'n_factors': range(10, 200, 10),\n",
    "    #          'lr_all': np.linspace(0.001, 0.1, 100),\n",
    "    #          'reg_all': np.linspace(0.01, 0.2, 20)}),\n",
    "    # (NMF, {'n_factors': range(10, 200, 10)}),\n",
    "    # (SlopeOne, {}),\n",
    "    # (CoClustering, {'n_cltr_u': range(2, 20), 'n_cltr_i': range(2, 20)})\n",
    "]\n",
    "rss = []\n",
    "for Algo, param_grid in algo_param_grids:\n",
    "    rs = RandomizedSearchCV(\n",
    "        Algo, param_grid,\n",
    "        n_iter=30,\n",
    "        cv=4,\n",
    "        n_jobs=12,\n",
    "        random_state=0,\n",
    "        joblib_verbose=1\n",
    "    )\n",
    "    print(f\"Fitting for {Algo}\")\n",
    "    rs.fit(data)\n",
    "    rss.append(rs)"
   ],
   "metadata": {
    "collapsed": false,
    "pycharm": {
     "name": "#%%\n"
    }
   }
  },
  {
   "cell_type": "code",
   "execution_count": 7,
   "outputs": [
    {
     "name": "stdout",
     "output_type": "stream",
     "text": [
      "1.58% KNNBasic\n",
      "{'k': 10, 'sim_options': {'name': 'msd', 'min_support': 13, 'user_based': False}}\n",
      "1.52% KNNWithMeans\n",
      "{'k': 13, 'sim_options': {'name': 'msd', 'min_support': 14, 'user_based': False}}\n",
      "1.54% KNNWithZScore\n",
      "{'k': 15, 'sim_options': {'name': 'msd', 'min_support': 13, 'user_based': False}}\n",
      "1.50% KNNBaseline\n",
      "{'k': 13, 'sim_options': {'name': 'msd', 'min_support': 13, 'user_based': False}}\n",
      "1.73% SVD\n",
      "{'n_factors': 150, 'lr_all': 0.029, 'reg_all': 0.06999999999999999}\n"
     ]
    }
   ],
   "source": [
    "for (algo, _), rs in zip(algo_param_grids, rss):\n",
    "    print(f\"{rs.best_score['rmse']:.2%}\", algo.__name__)\n",
    "    print(rs.best_params['rmse'])"
   ],
   "metadata": {
    "collapsed": false,
    "pycharm": {
     "name": "#%%\n"
    }
   }
  },
  {
   "cell_type": "markdown",
   "source": [
    "We observe that most of them are closely rated.\n",
    "\n",
    "We'll continue to evaluate only KNN as they seem to be consistently better than SVD"
   ],
   "metadata": {
    "collapsed": false,
    "pycharm": {
     "name": "#%% md\n"
    }
   }
  },
  {
   "cell_type": "code",
   "execution_count": 8,
   "outputs": [
    {
     "name": "stdout",
     "output_type": "stream",
     "text": [
      "Fitting for <class 'surprise.prediction_algorithms.knns.KNNBasic'>\n",
      "Fitting for <class 'surprise.prediction_algorithms.knns.KNNWithMeans'>\n",
      "Fitting for <class 'surprise.prediction_algorithms.knns.KNNWithZScore'>\n",
      "Fitting for <class 'surprise.prediction_algorithms.knns.KNNBaseline'>\n"
     ]
    }
   ],
   "source": [
    "sim_options = {'name': ['msd'],\n",
    "               'min_support': range(10, 20),\n",
    "               'user_based': [False]}\n",
    "algo_param_grids = [\n",
    "    (KNNBasic, {'k': range(10, 20), 'sim_options': sim_options}),\n",
    "    (KNNWithMeans, {'k': range(10, 20), 'sim_options': sim_options}),\n",
    "    (KNNWithZScore, {'k': range(10, 20), 'sim_options': sim_options}),\n",
    "    (KNNBaseline, {'k': range(10, 20), 'sim_options': sim_options,\n",
    "                   }),\n",
    "]\n",
    "rss = []\n",
    "for Algo, param_grid in algo_param_grids:\n",
    "    rs = RandomizedSearchCV(\n",
    "        Algo, param_grid,\n",
    "        n_iter=30,\n",
    "        cv=4,\n",
    "        n_jobs=12,\n",
    "        random_state=0,\n",
    "    )\n",
    "    print(f\"Fitting for {Algo}\")\n",
    "    rs.fit(data)\n",
    "    rss.append(rs)"
   ],
   "metadata": {
    "collapsed": false,
    "pycharm": {
     "name": "#%%\n"
    }
   }
  },
  {
   "cell_type": "code",
   "execution_count": 9,
   "outputs": [
    {
     "name": "stdout",
     "output_type": "stream",
     "text": [
      "1.58% KNNBasic\n",
      "{'k': 10, 'sim_options': {'name': 'msd', 'min_support': 13, 'user_based': False}}\n",
      "1.52% KNNWithMeans\n",
      "{'k': 14, 'sim_options': {'name': 'msd', 'min_support': 14, 'user_based': False}}\n",
      "1.54% KNNWithZScore\n",
      "{'k': 16, 'sim_options': {'name': 'msd', 'min_support': 16, 'user_based': False}}\n",
      "1.50% KNNBaseline\n",
      "{'k': 13, 'sim_options': {'name': 'msd', 'min_support': 15, 'user_based': False}}\n"
     ]
    }
   ],
   "source": [
    "for (algo, _), rs in zip(algo_param_grids, rss):\n",
    "    print(f\"{rs.best_score['rmse']:.2%}\", algo.__name__)\n",
    "    print(rs.best_params['rmse'])"
   ],
   "metadata": {
    "collapsed": false,
    "pycharm": {
     "name": "#%%\n"
    }
   }
  },
  {
   "cell_type": "code",
   "execution_count": 10,
   "outputs": [
    {
     "name": "stdout",
     "output_type": "stream",
     "text": [
      "Fitting for <class 'surprise.prediction_algorithms.knns.KNNBaseline'>\n",
      "Fitting for <class 'surprise.prediction_algorithms.knns.KNNBaseline'>\n"
     ]
    }
   ],
   "source": [
    "sim_options = {'name': ['msd'],\n",
    "               'min_support': range(10, 20),\n",
    "               'user_based': [False]}\n",
    "algo_param_grids = [\n",
    "    # (KNNBasic, {'k': range(10, 20), 'sim_options': sim_options}),\n",
    "    # (KNNWithMeans, {'k': range(10, 20), 'sim_options': sim_options}),\n",
    "    # (KNNWithZScore, {'k': range(10, 20), 'sim_options': sim_options}),\n",
    "    (KNNBaseline, {'k': range(10, 20), 'sim_options': sim_options,\n",
    "                   'bsl_options': {\n",
    "                       \"method\": [\"als\"], \"n_epochs\": range(2, 10),\n",
    "                       \"reg_u\": range(5, 25), \"reg_i\": range(5, 25)\n",
    "                   }}),\n",
    "    (KNNBaseline, {'k': range(10, 20), 'sim_options': sim_options,\n",
    "                   'bsl_options': {\n",
    "                       \"method\": [\"sgd\"], \"reg\": np.linspace(0.005, 0.1, 20),\n",
    "                       \"learning_rate\": [0.05, 0.005, 0.0005],\n",
    "                       \"n_epochs\": range(5, 60)\n",
    "                   }}),\n",
    "]\n",
    "rss = []\n",
    "for Algo, param_grid in algo_param_grids:\n",
    "    rs = RandomizedSearchCV(\n",
    "        Algo, param_grid,\n",
    "        n_iter=30,\n",
    "        cv=4,\n",
    "        n_jobs=12,\n",
    "        random_state=0,\n",
    "    )\n",
    "    print(f\"Fitting for {Algo}\")\n",
    "    rs.fit(data)\n",
    "    rss.append(rs)"
   ],
   "metadata": {
    "collapsed": false,
    "pycharm": {
     "name": "#%%\n"
    }
   }
  },
  {
   "cell_type": "code",
   "execution_count": 11,
   "outputs": [
    {
     "name": "stdout",
     "output_type": "stream",
     "text": [
      "1.49% KNNBaseline\n",
      "{'k': 14, 'sim_options': {'name': 'msd', 'min_support': 14, 'user_based': False}, 'bsl_options': {'method': 'als', 'n_epochs': 3, 'reg_u': 15, 'reg_i': 5}}\n",
      "1.49% KNNBaseline\n",
      "{'k': 17, 'sim_options': {'name': 'msd', 'min_support': 12, 'user_based': False}, 'bsl_options': {'method': 'sgd', 'reg': 0.005, 'learning_rate': 0.005, 'n_epochs': 27}}\n"
     ]
    }
   ],
   "source": [
    "for (algo, _), rs in zip(algo_param_grids, rss):\n",
    "    print(f\"{rs.best_score['rmse']:.2%}\", algo.__name__)\n",
    "    print(rs.best_params['rmse'])"
   ],
   "metadata": {
    "collapsed": false,
    "pycharm": {
     "name": "#%%\n"
    }
   }
  }
 ],
 "metadata": {
  "kernelspec": {
   "display_name": "Python 3",
   "language": "python",
   "name": "python3"
  },
  "language_info": {
   "codemirror_mode": {
    "name": "ipython",
    "version": 2
   },
   "file_extension": ".py",
   "mimetype": "text/x-python",
   "name": "python",
   "nbconvert_exporter": "python",
   "pygments_lexer": "ipython2",
   "version": "2.7.6"
  }
 },
 "nbformat": 4,
 "nbformat_minor": 0
}