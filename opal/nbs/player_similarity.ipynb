{
 "cells": [
  {
   "cell_type": "markdown",
   "source": [
    "# Player Similarity Scores\n",
    "\n",
    "Following up from **Predicting Map Difficulty with Score & Collaborative Filtering**, we now try to calculate similarity scores for all players"
   ],
   "metadata": {
    "collapsed": false,
    "pycharm": {
     "name": "#%% md\n"
    }
   }
  },
  {
   "cell_type": "code",
   "execution_count": 1,
   "metadata": {
    "collapsed": true,
    "pycharm": {
     "name": "#%%\n"
    }
   },
   "outputs": [],
   "source": [
    "import warnings\n",
    "\n",
    "import numpy as np\n",
    "from scipy.optimize import curve_fit\n",
    "from sklearn.preprocessing import QuantileTransformer\n",
    "\n",
    "from opal.conf.mods import OsuMod\n",
    "\n",
    "# A false positive set by slice warning is shown, silence it\n",
    "warnings.filterwarnings('ignore')\n",
    "MAX_SCORE = 1e6\n",
    "\n",
    "import pandas as pd\n",
    "\n",
    "from opal.conf.conf import SCORES_DIR\n",
    "\n",
    "df_full = pd.read_csv(SCORES_DIR / \"top1k/raw.csv\")\n",
    "\n",
    "# Remove all scores with these mods.\n",
    "mods_remove = OsuMod.DOUBLE_TIME | OsuMod.HALF_TIME | OsuMod.NIGHTCORE | OsuMod.EASY\n",
    "\n",
    "df_full = df_full[~(df_full['enabled_mods'] & mods_remove > 0)]\n",
    "\n",
    "df = df_full[['beatmap_id', 'user_id', 'score', 'year']]\n",
    "\n",
    "# For some reason, we can have multiple scores on the same map with the same player.\n",
    "df = df.groupby(['user_id', 'year', 'beatmap_id']).agg('mean').reset_index()\n",
    "df['score'] = df['score'] / MAX_SCORE\n",
    "qt = QuantileTransformer()\n",
    "df['score_transformed'] = qt.fit_transform(df[['score']])\n",
    "df = df.set_index(['user_id', 'year'])"
   ]
  },
  {
   "cell_type": "code",
   "execution_count": 2,
   "outputs": [
    {
     "data": {
      "text/plain": "              beatmap_id     score  score_transformed\nuser_id year                                         \n65724   2015      157152  0.412289           0.011840\n        2015      310366  0.300932           0.004901\n        2016       32840  0.456489           0.016074\n        2016      437329  0.443105           0.014498\n        2017       18875  0.523901           0.025860",
      "text/html": "<div>\n<style scoped>\n    .dataframe tbody tr th:only-of-type {\n        vertical-align: middle;\n    }\n\n    .dataframe tbody tr th {\n        vertical-align: top;\n    }\n\n    .dataframe thead th {\n        text-align: right;\n    }\n</style>\n<table border=\"1\" class=\"dataframe\">\n  <thead>\n    <tr style=\"text-align: right;\">\n      <th></th>\n      <th></th>\n      <th>beatmap_id</th>\n      <th>score</th>\n      <th>score_transformed</th>\n    </tr>\n    <tr>\n      <th>user_id</th>\n      <th>year</th>\n      <th></th>\n      <th></th>\n      <th></th>\n    </tr>\n  </thead>\n  <tbody>\n    <tr>\n      <th rowspan=\"5\" valign=\"top\">65724</th>\n      <th>2015</th>\n      <td>157152</td>\n      <td>0.412289</td>\n      <td>0.011840</td>\n    </tr>\n    <tr>\n      <th>2015</th>\n      <td>310366</td>\n      <td>0.300932</td>\n      <td>0.004901</td>\n    </tr>\n    <tr>\n      <th>2016</th>\n      <td>32840</td>\n      <td>0.456489</td>\n      <td>0.016074</td>\n    </tr>\n    <tr>\n      <th>2016</th>\n      <td>437329</td>\n      <td>0.443105</td>\n      <td>0.014498</td>\n    </tr>\n    <tr>\n      <th>2017</th>\n      <td>18875</td>\n      <td>0.523901</td>\n      <td>0.025860</td>\n    </tr>\n  </tbody>\n</table>\n</div>"
     },
     "execution_count": 2,
     "metadata": {},
     "output_type": "execute_result"
    }
   ],
   "source": [
    "df.head()"
   ],
   "metadata": {
    "collapsed": false,
    "pycharm": {
     "name": "#%%\n"
    }
   }
  },
  {
   "cell_type": "markdown",
   "source": [
    "We also implement the similarity curve fitting"
   ],
   "metadata": {
    "collapsed": false,
    "pycharm": {
     "name": "#%% md\n"
    }
   }
  },
  {
   "cell_type": "code",
   "execution_count": 3,
   "outputs": [],
   "source": [
    "def s_to_sim(s):\n",
    "    return np.exp(-np.abs(s))\n",
    "\n",
    "\n",
    "def curve_fn(x, s):\n",
    "    \"\"\" Curve to fit to Player X Y performances \"\"\"\n",
    "    return x ** np.exp(s)\n",
    "\n",
    "\n",
    "def curve_fit_pair(\n",
    "    score_x: pd.Series, score_y: pd.Series\n",
    ") -> float:\n",
    "    \"\"\" Fits the x^e^s function to x, y scores \"\"\"\n",
    "\n",
    "    s = curve_fit(curve_fn, score_x, score_y)[0]\n",
    "\n",
    "    return s\n",
    "\n",
    "\n",
    "def plot_curve(score_x, score_y, s):\n",
    "    jp = sns.jointplot(score_x, score_y)\n",
    "    x = np.linspace(0, 1, 100)\n",
    "    jp.ax_joint.plot(x, curve_fn(x, s), color='green')\n",
    "    jp.set_axis_labels('Player X', 'Player Y')"
   ],
   "metadata": {
    "collapsed": false,
    "pycharm": {
     "name": "#%%\n"
    }
   }
  },
  {
   "cell_type": "markdown",
   "source": [
    "We firstly yield all unique \"users\".\n",
    "Note that we assume that improvements happen every year, so we deem a `user_id` unique per year.\n",
    "\n",
    "Thus, we split by `user_id` and `year`."
   ],
   "metadata": {
    "collapsed": false,
    "pycharm": {
     "name": "#%% md\n"
    }
   }
  },
  {
   "cell_type": "code",
   "execution_count": 103,
   "outputs": [],
   "source": [
    "MIN_PLAYS_PER_MONTH = 1200\n",
    "gb = df.groupby(df.index)\n",
    "gb_users = list(filter(lambda g: len(g[1]) > MIN_PLAYS_PER_MONTH, gb))"
   ],
   "metadata": {
    "collapsed": false,
    "pycharm": {
     "name": "#%%\n"
    }
   }
  },
  {
   "cell_type": "code",
   "execution_count": 104,
   "outputs": [
    {
     "name": "stderr",
     "output_type": "stream",
     "text": [
      "2346it [00:25, 92.89it/s] \n"
     ]
    }
   ],
   "source": [
    "from tqdm import tqdm\n",
    "from itertools import combinations\n",
    "import seaborn as sns\n",
    "\n",
    "ar_sim = np.zeros([len(gb_users), len(gb_users)], dtype=float)\n",
    "gb_users_pair = combinations(gb_users, 2)\n",
    "pair_ix = combinations(range(len(gb_users)), 2)\n",
    "for ((_, df_px), (_, df_py)), (pxi, pyi) in tqdm(zip(gb_users_pair, pair_ix)):\n",
    "    df_p = df_px.merge(df_py, on='beatmap_id')\n",
    "    if len(df_p) < 50: continue\n",
    "    score_x, score_y = df_p['score_transformed_x'], df_p['score_transformed_y']\n",
    "    s = curve_fit_pair(score_x, score_y)\n",
    "    sim = s_to_sim(s)\n",
    "    ar_sim[pxi, pyi] = float(sim)\n",
    "\n",
    "ar_sim += ar_sim.T"
   ],
   "metadata": {
    "collapsed": false,
    "pycharm": {
     "name": "#%%\n"
    }
   }
  },
  {
   "cell_type": "markdown",
   "source": [
    "Let's take a look at the similarity as a heatmap"
   ],
   "metadata": {
    "collapsed": false,
    "pycharm": {
     "name": "#%% md\n"
    }
   }
  },
  {
   "cell_type": "code",
   "execution_count": 105,
   "outputs": [
    {
     "data": {
      "text/plain": "<AxesSubplot:>"
     },
     "execution_count": 105,
     "metadata": {},
     "output_type": "execute_result"
    },
    {
     "data": {
      "text/plain": "<Figure size 432x288 with 2 Axes>",
      "image/png": "[encoded data removed]"
     },
     "metadata": {
      "needs_background": "light"
     },
     "output_type": "display_data"
    }
   ],
   "source": [
    "sns.heatmap(ar_sim)"
   ],
   "metadata": {
    "collapsed": false,
    "pycharm": {
     "name": "#%%\n"
    }
   }
  },
  {
   "cell_type": "markdown",
   "source": [
    "We take a user with a decent amount of similarities"
   ],
   "metadata": {
    "collapsed": false,
    "pycharm": {
     "name": "#%% md\n"
    }
   }
  },
  {
   "cell_type": "code",
   "execution_count": 115,
   "outputs": [
    {
     "name": "stdout",
     "output_type": "stream",
     "text": [
      "User ID / Year  (6914714, 2021)\n"
     ]
    }
   ],
   "source": [
    "user_ids = [g[0] for g in gb_users]\n",
    "\n",
    "index = pd.MultiIndex.from_tuples(user_ids, names=[\"user_id\", \"year\"])\n",
    "df_sim = pd.DataFrame(columns=index, index=index, data=ar_sim)\n",
    "df_sim.index.set_names(['user_id', 'year'])\n",
    "df_filter = pd.concat([g[1] for g in gb_users])\n",
    "\n",
    "user_id = user_ids[24]\n",
    "print(\"User ID / Year \", user_id)"
   ],
   "metadata": {
    "collapsed": false,
    "pycharm": {
     "name": "#%%\n"
    }
   }
  },
  {
   "cell_type": "code",
   "execution_count": 116,
   "outputs": [
    {
     "data": {
      "text/plain": "              beatmap_id     score  score_transformed\nuser_id year                                         \n6914714 2021      193131  0.912525           0.352300\n        2021      204360  0.893687           0.310060\n        2021      217670  0.924668           0.384254\n        2021      220960  0.850516           0.229011\n        2021      223266  0.956780           0.492710",
      "text/html": "<div>\n<style scoped>\n    .dataframe tbody tr th:only-of-type {\n        vertical-align: middle;\n    }\n\n    .dataframe tbody tr th {\n        vertical-align: top;\n    }\n\n    .dataframe thead th {\n        text-align: right;\n    }\n</style>\n<table border=\"1\" class=\"dataframe\">\n  <thead>\n    <tr style=\"text-align: right;\">\n      <th></th>\n      <th></th>\n      <th>beatmap_id</th>\n      <th>score</th>\n      <th>score_transformed</th>\n    </tr>\n    <tr>\n      <th>user_id</th>\n      <th>year</th>\n      <th></th>\n      <th></th>\n      <th></th>\n    </tr>\n  </thead>\n  <tbody>\n    <tr>\n      <th rowspan=\"5\" valign=\"top\">6914714</th>\n      <th>2021</th>\n      <td>193131</td>\n      <td>0.912525</td>\n      <td>0.352300</td>\n    </tr>\n    <tr>\n      <th>2021</th>\n      <td>204360</td>\n      <td>0.893687</td>\n      <td>0.310060</td>\n    </tr>\n    <tr>\n      <th>2021</th>\n      <td>217670</td>\n      <td>0.924668</td>\n      <td>0.384254</td>\n    </tr>\n    <tr>\n      <th>2021</th>\n      <td>220960</td>\n      <td>0.850516</td>\n      <td>0.229011</td>\n    </tr>\n    <tr>\n      <th>2021</th>\n      <td>223266</td>\n      <td>0.956780</td>\n      <td>0.492710</td>\n    </tr>\n  </tbody>\n</table>\n</div>"
     },
     "execution_count": 116,
     "metadata": {},
     "output_type": "execute_result"
    }
   ],
   "source": [
    "user_df = df_filter.loc[user_id]\n",
    "user_df.head()"
   ],
   "metadata": {
    "collapsed": false,
    "pycharm": {
     "name": "#%%\n"
    }
   }
  },
  {
   "cell_type": "markdown",
   "source": [
    "Let's take a score here with a good amount of shared player plays"
   ],
   "metadata": {
    "collapsed": false
   }
  },
  {
   "cell_type": "code",
   "execution_count": 123,
   "outputs": [
    {
     "data": {
      "text/plain": "beatmap_id           364220.000000\nscore                     0.986025\nscore_transformed         0.676924\nName: (6914714, 2021), dtype: float64"
     },
     "execution_count": 123,
     "metadata": {},
     "output_type": "execute_result"
    }
   ],
   "source": [
    "user_score = user_df.iloc[50]\n",
    "user_score"
   ],
   "metadata": {
    "collapsed": false,
    "pycharm": {
     "name": "#%%\n"
    }
   }
  },
  {
   "cell_type": "markdown",
   "source": [
    "We have 2 scores, 1 untransformed, one transformed.\n",
    "We'll predict the transformed score, then inverse transform it to see its error!\n",
    "\n",
    "The next step is to get all scores from the same beatmap from other players"
   ],
   "metadata": {
    "collapsed": false,
    "pycharm": {
     "name": "#%% md\n"
    }
   }
  },
  {
   "cell_type": "code",
   "execution_count": 124,
   "outputs": [
    {
     "data": {
      "text/plain": "               beatmap_id     score  score_transformed\nuser_id  year                                         \n3632846  2017      364220  0.917853           0.366279\n3752338  2018      364220  0.956803           0.492805\n4463653  2018      364220  0.899196           0.321735\n4725379  2020      364220  0.935639           0.416318\n5818319  2017      364220  0.733834           0.097166\n6914714  2021      364220  0.986025           0.676924\n7418493  2020      364220  0.935694           0.416494\n8029883  2017      364220  0.937234           0.421049\n8222416  2020      364220  0.983696           0.653673\n8370443  2019      364220  0.974145           0.581285\n8454236  2020      364220  0.984381           0.660291\n9557847  2019      364220  0.697339           0.077120\n9872668  2018      364220  0.736466           0.098610\n         2019      364220  0.937087           0.420624\n10085090 2021      364220  0.974998           0.587009\n10453382 2018      364220  0.718329           0.087958\n10599753 2018      364220  0.904283           0.332789\n11199083 2021      364220  0.990196           0.728968\n11557167 2018      364220  0.827632           0.191281\n11778716 2019      364220  0.872195           0.267891\n12261836 2018      364220  0.816316           0.174741\n12598261 2021      364220  0.818311           0.177434\n12703319 2020      364220  0.988108           0.700656\n13656264 2021      364220  0.976996           0.600675\n13742840 2020      364220  0.981766           0.635908\n14202409 2020      364220  0.828977           0.193218\n14213383 2019      364220  0.792945           0.147076\n17932840 2021      364220  0.982887           0.646045\n18693260 2021      364220  0.945337           0.447977",
      "text/html": "<div>\n<style scoped>\n    .dataframe tbody tr th:only-of-type {\n        vertical-align: middle;\n    }\n\n    .dataframe tbody tr th {\n        vertical-align: top;\n    }\n\n    .dataframe thead th {\n        text-align: right;\n    }\n</style>\n<table border=\"1\" class=\"dataframe\">\n  <thead>\n    <tr style=\"text-align: right;\">\n      <th></th>\n      <th></th>\n      <th>beatmap_id</th>\n      <th>score</th>\n      <th>score_transformed</th>\n    </tr>\n    <tr>\n      <th>user_id</th>\n      <th>year</th>\n      <th></th>\n      <th></th>\n      <th></th>\n    </tr>\n  </thead>\n  <tbody>\n    <tr>\n      <th>3632846</th>\n      <th>2017</th>\n      <td>364220</td>\n      <td>0.917853</td>\n      <td>0.366279</td>\n    </tr>\n    <tr>\n      <th>3752338</th>\n      <th>2018</th>\n      <td>364220</td>\n      <td>0.956803</td>\n      <td>0.492805</td>\n    </tr>\n    <tr>\n      <th>4463653</th>\n      <th>2018</th>\n      <td>364220</td>\n      <td>0.899196</td>\n      <td>0.321735</td>\n    </tr>\n    <tr>\n      <th>4725379</th>\n      <th>2020</th>\n      <td>364220</td>\n      <td>0.935639</td>\n      <td>0.416318</td>\n    </tr>\n    <tr>\n      <th>5818319</th>\n      <th>2017</th>\n      <td>364220</td>\n      <td>0.733834</td>\n      <td>0.097166</td>\n    </tr>\n    <tr>\n      <th>6914714</th>\n      <th>2021</th>\n      <td>364220</td>\n      <td>0.986025</td>\n      <td>0.676924</td>\n    </tr>\n    <tr>\n      <th>7418493</th>\n      <th>2020</th>\n      <td>364220</td>\n      <td>0.935694</td>\n      <td>0.416494</td>\n    </tr>\n    <tr>\n      <th>8029883</th>\n      <th>2017</th>\n      <td>364220</td>\n      <td>0.937234</td>\n      <td>0.421049</td>\n    </tr>\n    <tr>\n      <th>8222416</th>\n      <th>2020</th>\n      <td>364220</td>\n      <td>0.983696</td>\n      <td>0.653673</td>\n    </tr>\n    <tr>\n      <th>8370443</th>\n      <th>2019</th>\n      <td>364220</td>\n      <td>0.974145</td>\n      <td>0.581285</td>\n    </tr>\n    <tr>\n      <th>8454236</th>\n      <th>2020</th>\n      <td>364220</td>\n      <td>0.984381</td>\n      <td>0.660291</td>\n    </tr>\n    <tr>\n      <th>9557847</th>\n      <th>2019</th>\n      <td>364220</td>\n      <td>0.697339</td>\n      <td>0.077120</td>\n    </tr>\n    <tr>\n      <th rowspan=\"2\" valign=\"top\">9872668</th>\n      <th>2018</th>\n      <td>364220</td>\n      <td>0.736466</td>\n      <td>0.098610</td>\n    </tr>\n    <tr>\n      <th>2019</th>\n      <td>364220</td>\n      <td>0.937087</td>\n      <td>0.420624</td>\n    </tr>\n    <tr>\n      <th>10085090</th>\n      <th>2021</th>\n      <td>364220</td>\n      <td>0.974998</td>\n      <td>0.587009</td>\n    </tr>\n    <tr>\n      <th>10453382</th>\n      <th>2018</th>\n      <td>364220</td>\n      <td>0.718329</td>\n      <td>0.087958</td>\n    </tr>\n    <tr>\n      <th>10599753</th>\n      <th>2018</th>\n      <td>364220</td>\n      <td>0.904283</td>\n      <td>0.332789</td>\n    </tr>\n    <tr>\n      <th>11199083</th>\n      <th>2021</th>\n      <td>364220</td>\n      <td>0.990196</td>\n      <td>0.728968</td>\n    </tr>\n    <tr>\n      <th>11557167</th>\n      <th>2018</th>\n      <td>364220</td>\n      <td>0.827632</td>\n      <td>0.191281</td>\n    </tr>\n    <tr>\n      <th>11778716</th>\n      <th>2019</th>\n      <td>364220</td>\n      <td>0.872195</td>\n      <td>0.267891</td>\n    </tr>\n    <tr>\n      <th>12261836</th>\n      <th>2018</th>\n      <td>364220</td>\n      <td>0.816316</td>\n      <td>0.174741</td>\n    </tr>\n    <tr>\n      <th>12598261</th>\n      <th>2021</th>\n      <td>364220</td>\n      <td>0.818311</td>\n      <td>0.177434</td>\n    </tr>\n    <tr>\n      <th>12703319</th>\n      <th>2020</th>\n      <td>364220</td>\n      <td>0.988108</td>\n      <td>0.700656</td>\n    </tr>\n    <tr>\n      <th>13656264</th>\n      <th>2021</th>\n      <td>364220</td>\n      <td>0.976996</td>\n      <td>0.600675</td>\n    </tr>\n    <tr>\n      <th>13742840</th>\n      <th>2020</th>\n      <td>364220</td>\n      <td>0.981766</td>\n      <td>0.635908</td>\n    </tr>\n    <tr>\n      <th>14202409</th>\n      <th>2020</th>\n      <td>364220</td>\n      <td>0.828977</td>\n      <td>0.193218</td>\n    </tr>\n    <tr>\n      <th>14213383</th>\n      <th>2019</th>\n      <td>364220</td>\n      <td>0.792945</td>\n      <td>0.147076</td>\n    </tr>\n    <tr>\n      <th>17932840</th>\n      <th>2021</th>\n      <td>364220</td>\n      <td>0.982887</td>\n      <td>0.646045</td>\n    </tr>\n    <tr>\n      <th>18693260</th>\n      <th>2021</th>\n      <td>364220</td>\n      <td>0.945337</td>\n      <td>0.447977</td>\n    </tr>\n  </tbody>\n</table>\n</div>"
     },
     "execution_count": 124,
     "metadata": {},
     "output_type": "execute_result"
    }
   ],
   "source": [
    "df_filter[df_filter['beatmap_id'] == user_df.iloc[50]['beatmap_id']]"
   ],
   "metadata": {
    "collapsed": false,
    "pycharm": {
     "name": "#%%\n"
    }
   }
  },
  {
   "cell_type": "code",
   "execution_count": 125,
   "outputs": [
    {
     "data": {
      "text/plain": "               beatmap_id     score  score_transformed  similarity\nuser_id  year                                                     \n7418493  2020      364220  0.935694           0.416494    0.908606\n12703319 2020      364220  0.988108           0.700656    0.884981\n8370443  2019      364220  0.974145           0.581285    0.825707\n8454236  2020      364220  0.984381           0.660291    0.817643\n13656264 2021      364220  0.976996           0.600675    0.790649",
      "text/html": "<div>\n<style scoped>\n    .dataframe tbody tr th:only-of-type {\n        vertical-align: middle;\n    }\n\n    .dataframe tbody tr th {\n        vertical-align: top;\n    }\n\n    .dataframe thead th {\n        text-align: right;\n    }\n</style>\n<table border=\"1\" class=\"dataframe\">\n  <thead>\n    <tr style=\"text-align: right;\">\n      <th></th>\n      <th></th>\n      <th>beatmap_id</th>\n      <th>score</th>\n      <th>score_transformed</th>\n      <th>similarity</th>\n    </tr>\n    <tr>\n      <th>user_id</th>\n      <th>year</th>\n      <th></th>\n      <th></th>\n      <th></th>\n      <th></th>\n    </tr>\n  </thead>\n  <tbody>\n    <tr>\n      <th>7418493</th>\n      <th>2020</th>\n      <td>364220</td>\n      <td>0.935694</td>\n      <td>0.416494</td>\n      <td>0.908606</td>\n    </tr>\n    <tr>\n      <th>12703319</th>\n      <th>2020</th>\n      <td>364220</td>\n      <td>0.988108</td>\n      <td>0.700656</td>\n      <td>0.884981</td>\n    </tr>\n    <tr>\n      <th>8370443</th>\n      <th>2019</th>\n      <td>364220</td>\n      <td>0.974145</td>\n      <td>0.581285</td>\n      <td>0.825707</td>\n    </tr>\n    <tr>\n      <th>8454236</th>\n      <th>2020</th>\n      <td>364220</td>\n      <td>0.984381</td>\n      <td>0.660291</td>\n      <td>0.817643</td>\n    </tr>\n    <tr>\n      <th>13656264</th>\n      <th>2021</th>\n      <td>364220</td>\n      <td>0.976996</td>\n      <td>0.600675</td>\n      <td>0.790649</td>\n    </tr>\n  </tbody>\n</table>\n</div>"
     },
     "execution_count": 125,
     "metadata": {},
     "output_type": "execute_result"
    }
   ],
   "source": [
    "df_score_sim = df_filter[df_filter['beatmap_id'] == user_score['beatmap_id']].merge(\n",
    "    df_sim[user_id].rename('similarity'),\n",
    "    left_index=True, right_index=True\n",
    ").sort_values(by='similarity', ascending=False)\n",
    "df_score_sim.head()"
   ],
   "metadata": {
    "collapsed": false,
    "pycharm": {
     "name": "#%%\n"
    }
   }
  },
  {
   "cell_type": "code",
   "execution_count": 127,
   "outputs": [
    {
     "data": {
      "text/plain": "<Figure size 432x288 with 1 Axes>",
      "image/png": "[encoded data removed]"
     },
     "metadata": {
      "needs_background": "light"
     },
     "output_type": "display_data"
    }
   ],
   "source": [
    "import matplotlib.pyplot as plt\n",
    "plt.scatter(df_score_sim['similarity'], df_score_sim['score_transformed'])\n",
    "plt.xlabel(\"Similarity\")\n",
    "plt.ylabel(\"Score\")\n",
    "plt.xlim(0, 1)\n",
    "plt.ylim(0, 1)\n",
    "_ = plt.title(\"Similar Scores\")\n",
    "_ = plt.axhline(user_score['score_transformed'])"
   ],
   "metadata": {
    "collapsed": false,
    "pycharm": {
     "name": "#%%\n"
    }
   }
  },
  {
   "cell_type": "markdown",
   "source": [
    "Interestingly, we see another trend, players similar tend to have higher transformed scores, this is consistent with our idea!\n",
    "\n",
    "However, it's not very accurate, but the idea is there!"
   ],
   "metadata": {
    "collapsed": false,
    "pycharm": {
     "name": "#%% md\n"
    }
   }
  },
  {
   "cell_type": "markdown",
   "source": [
    "Let's take the weighted average, then compute the error of it"
   ],
   "metadata": {
    "collapsed": false,
    "pycharm": {
     "name": "#%% md\n"
    }
   }
  },
  {
   "cell_type": "code",
   "execution_count": 148,
   "outputs": [
    {
     "name": "stdout",
     "output_type": "stream",
     "text": [
      "The actual error is: -16640.55103181894\n"
     ]
    }
   ],
   "source": [
    "pred = np.average(df_score_sim['score_transformed'], weights=df_score_sim['similarity'] ** 3)\n",
    "actual = user_score['score_transformed']\n",
    "error = (qt.inverse_transform([[pred]]) - qt.inverse_transform([[actual]])) * 1e6\n",
    "print(\"The actual error is:\", error[0][0])"
   ],
   "metadata": {
    "collapsed": false,
    "pycharm": {
     "name": "#%%\n"
    }
   }
  },
  {
   "cell_type": "markdown",
   "source": [
    "This implies that our prediction is just 16K below the actual result!\n",
    "This is not definitive, however, it's a great start to our predictions."
   ],
   "metadata": {
    "collapsed": false,
    "pycharm": {
     "name": "#%% md\n"
    }
   }
  }
 ],
 "metadata": {
  "kernelspec": {
   "display_name": "Python 3",
   "language": "python",
   "name": "python3"
  },
  "language_info": {
   "codemirror_mode": {
    "name": "ipython",
    "version": 2
   },
   "file_extension": ".py",
   "mimetype": "text/x-python",
   "name": "python",
   "nbconvert_exporter": "python",
   "pygments_lexer": "ipython2",
   "version": "2.7.6"
  }
 },
 "nbformat": 4,
 "nbformat_minor": 0
}