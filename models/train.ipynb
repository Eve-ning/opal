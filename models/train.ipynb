{
 "cells": [
  {
   "cell_type": "code",
   "execution_count": 1,
   "outputs": [
    {
     "name": "stdout",
     "output_type": "stream",
     "text": [
      "Download Files: \n",
      "\t- D:/Repositories/PycharmProjects/opal/models/../data/2022_11_01_performance_mania_top_1000.tar.bz2\n",
      "Derived Files: \n",
      "\t- D:/Repositories/PycharmProjects/opal/models/../data/2022_11_01_performance_mania_top_1000/___.sql (All SQL Files are extracted)\n",
      "\t- D:/Repositories/PycharmProjects/opal/models/../data/2022_11_01_performance_mania_top_1000/csv/osu_user_stats_mania.csv\n",
      "\t- D:/Repositories/PycharmProjects/opal/models/../data/2022_11_01_performance_mania_top_1000/csv/osu_scores_mania_high.csv\n",
      "\t- D:/Repositories/PycharmProjects/opal/models/../data/2022_11_01_performance_mania_top_1000/csv/osu_beatmap_difficulty.csv\n",
      "\t- D:/Repositories/PycharmProjects/opal/models/../data/2022_11_01_performance_mania_top_1000/csv/osu_beatmaps.csv\n",
      "Proceeding to Download ...\n",
      "File exists, and overwrite is false, skipping\n",
      "Download Files: \n",
      "\t- D:/Repositories/PycharmProjects/opal/models/../data/2022_11_01_performance_mania_top_1000.tar.bz2\n",
      "Derived Files: \n",
      "\t- D:/Repositories/PycharmProjects/opal/models/../data/2022_11_01_performance_mania_top_1000/___.sql (All SQL Files are extracted)\n",
      "\t- D:/Repositories/PycharmProjects/opal/models/../data/2022_11_01_performance_mania_top_1000/csv/osu_user_stats_mania.csv\n",
      "\t- D:/Repositories/PycharmProjects/opal/models/../data/2022_11_01_performance_mania_top_1000/csv/osu_scores_mania_high.csv\n",
      "\t- D:/Repositories/PycharmProjects/opal/models/../data/2022_11_01_performance_mania_top_1000/csv/osu_beatmap_difficulty.csv\n",
      "\t- D:/Repositories/PycharmProjects/opal/models/../data/2022_11_01_performance_mania_top_1000/csv/osu_beatmaps.csv\n",
      "Proceeding to Download ...\n",
      "File exists, and overwrite is false, skipping\n"
     ]
    },
    {
     "name": "stderr",
     "output_type": "stream",
     "text": [
      "D:\\Repositories\\PycharmProjects\\opal\\models\\..\\opal\\score\\datamodule\\score_datamodule.py:76: DtypeWarning: Columns (22) have mixed types. Specify dtype option on import or set low_memory=False.\n",
      "  df_map = pd.read_csv(csv_map)\n",
      "GPU available: True (cuda), used: True\n",
      "TPU available: False, using: 0 TPU cores\n",
      "IPU available: False, using: 0 IPUs\n",
      "HPU available: False, using: 0 HPUs\n"
     ]
    }
   ],
   "source": [
    "import sys\n",
    "\n",
    "from pytorch_lightning.callbacks import LearningRateMonitor\n",
    "\n",
    "sys.path.append(\"../\")\n",
    "sys.path.append(\"../opal/data_ppy_sh_to_csv/\")\n",
    "from opal.score.collaborative_filtering import NeuMF\n",
    "from opal.score.datamodule import ScoreDataModule\n",
    "import pytorch_lightning as pl\n",
    "\n",
    "dm = ScoreDataModule(\n",
    "    ds_yyyy_mm=\"2022_11\",\n",
    "    batch_size=2 ** 10,\n",
    "    score_bounds=(5e5, 1e6),\n",
    ")\n",
    "\n",
    "net = NeuMF(\n",
    "    uid_le=dm.uid_le,\n",
    "    mid_le=dm.mid_le,\n",
    "    qt=dm.qt_accuracy,\n",
    "    mf_emb_dim=16,\n",
    "    mlp_emb_dim=16,\n",
    "    mlp_chn_out=8,\n",
    "    lr=0.005,\n",
    "    one_cycle_lr_params={\n",
    "        \"pct_start\": 0.1,\n",
    "        \"three_phase\": True,\n",
    "        \"final_div_factor\": 1e6\n",
    "    }\n",
    ")\n",
    "\n",
    "trainer = pl.Trainer(\n",
    "    max_epochs=35,\n",
    "    accelerator='gpu',\n",
    "    default_root_dir=\"V1_2022_11\",\n",
    "    callbacks=[\n",
    "        # EarlyStopping(\n",
    "        #     monitor=\"val_loss\",\n",
    "        #     patience=2,\n",
    "        #     verbose=True,\n",
    "        #     mode='min',\n",
    "        #     divergence_threshold=1\n",
    "        # ),\n",
    "        LearningRateMonitor()\n",
    "    ]\n",
    ")"
   ],
   "metadata": {
    "collapsed": false
   }
  },
  {
   "cell_type": "code",
   "execution_count": 2,
   "outputs": [
    {
     "name": "stdout",
     "output_type": "stream",
     "text": [
      "Download Files: \n",
      "\t- D:/Repositories/PycharmProjects/opal/models/../data/2022_11_01_performance_mania_top_1000.tar.bz2\n",
      "Derived Files: \n",
      "\t- D:/Repositories/PycharmProjects/opal/models/../data/2022_11_01_performance_mania_top_1000/___.sql (All SQL Files are extracted)\n",
      "\t- D:/Repositories/PycharmProjects/opal/models/../data/2022_11_01_performance_mania_top_1000/csv/osu_user_stats_mania.csv\n",
      "\t- D:/Repositories/PycharmProjects/opal/models/../data/2022_11_01_performance_mania_top_1000/csv/osu_scores_mania_high.csv\n",
      "\t- D:/Repositories/PycharmProjects/opal/models/../data/2022_11_01_performance_mania_top_1000/csv/osu_beatmap_difficulty.csv\n",
      "\t- D:/Repositories/PycharmProjects/opal/models/../data/2022_11_01_performance_mania_top_1000/csv/osu_beatmaps.csv\n",
      "Proceeding to Download ...\n",
      "File exists, and overwrite is false, skipping\n",
      "Download Files: \n",
      "\t- D:/Repositories/PycharmProjects/opal/models/../data/2022_11_01_performance_mania_top_1000.tar.bz2\n",
      "Derived Files: \n",
      "\t- D:/Repositories/PycharmProjects/opal/models/../data/2022_11_01_performance_mania_top_1000/___.sql (All SQL Files are extracted)\n",
      "\t- D:/Repositories/PycharmProjects/opal/models/../data/2022_11_01_performance_mania_top_1000/csv/osu_user_stats_mania.csv\n",
      "\t- D:/Repositories/PycharmProjects/opal/models/../data/2022_11_01_performance_mania_top_1000/csv/osu_scores_mania_high.csv\n",
      "\t- D:/Repositories/PycharmProjects/opal/models/../data/2022_11_01_performance_mania_top_1000/csv/osu_beatmap_difficulty.csv\n",
      "\t- D:/Repositories/PycharmProjects/opal/models/../data/2022_11_01_performance_mania_top_1000/csv/osu_beatmaps.csv\n",
      "Proceeding to Download ...\n",
      "File exists, and overwrite is false, skipping\n"
     ]
    },
    {
     "name": "stderr",
     "output_type": "stream",
     "text": [
      "D:\\Repositories\\PycharmProjects\\opal\\models\\..\\opal\\score\\datamodule\\score_datamodule.py:76: DtypeWarning: Columns (22) have mixed types. Specify dtype option on import or set low_memory=False.\n",
      "  df_map = pd.read_csv(csv_map)\n",
      "LOCAL_RANK: 0 - CUDA_VISIBLE_DEVICES: [0]\n",
      "\n",
      "  | Name  | Type        | Params\n",
      "--------------------------------------\n",
      "0 | model | NeuMFModule | 539 K \n",
      "1 | loss  | MSELoss     | 0     \n",
      "--------------------------------------\n",
      "539 K     Trainable params\n",
      "0         Non-trainable params\n",
      "539 K     Total params\n",
      "2.158     Total estimated model params size (MB)\n"
     ]
    },
    {
     "data": {
      "text/plain": "Sanity Checking: 0it [00:00, ?it/s]",
      "application/vnd.jupyter.widget-view+json": {
       "version_major": 2,
       "version_minor": 0,
       "model_id": "252cd459e717487a80fa061a5a9e31c1"
      }
     },
     "metadata": {},
     "output_type": "display_data"
    },
    {
     "name": "stderr",
     "output_type": "stream",
     "text": [
      "D:\\ProgramFiles\\Anaconda\\envs\\opal\\lib\\site-packages\\pytorch_lightning\\trainer\\connectors\\data_connector.py:224: PossibleUserWarning: The dataloader, val_dataloader 0, does not have many workers which may be a bottleneck. Consider increasing the value of the `num_workers` argument` (try 16 which is the number of cpus on this machine) in the `DataLoader` init to improve performance.\n",
      "  rank_zero_warn(\n",
      "D:\\ProgramFiles\\Anaconda\\envs\\opal\\lib\\site-packages\\pytorch_lightning\\trainer\\connectors\\data_connector.py:224: PossibleUserWarning: The dataloader, train_dataloader, does not have many workers which may be a bottleneck. Consider increasing the value of the `num_workers` argument` (try 16 which is the number of cpus on this machine) in the `DataLoader` init to improve performance.\n",
      "  rank_zero_warn(\n"
     ]
    },
    {
     "data": {
      "text/plain": "Training: 0it [00:00, ?it/s]",
      "application/vnd.jupyter.widget-view+json": {
       "version_major": 2,
       "version_minor": 0,
       "model_id": "33bc1f155e3548f0ad7d0b2006635a61"
      }
     },
     "metadata": {},
     "output_type": "display_data"
    },
    {
     "data": {
      "text/plain": "Validation: 0it [00:00, ?it/s]",
      "application/vnd.jupyter.widget-view+json": {
       "version_major": 2,
       "version_minor": 0,
       "model_id": "aa1c33e614d743258c8a8b5bedc339c0"
      }
     },
     "metadata": {},
     "output_type": "display_data"
    },
    {
     "data": {
      "text/plain": "Validation: 0it [00:00, ?it/s]",
      "application/vnd.jupyter.widget-view+json": {
       "version_major": 2,
       "version_minor": 0,
       "model_id": "82d7ba0bcdb6413b87f268f099d200a2"
      }
     },
     "metadata": {},
     "output_type": "display_data"
    },
    {
     "data": {
      "text/plain": "Validation: 0it [00:00, ?it/s]",
      "application/vnd.jupyter.widget-view+json": {
       "version_major": 2,
       "version_minor": 0,
       "model_id": "4f7ffaec44174a2a9a742b7db32c696b"
      }
     },
     "metadata": {},
     "output_type": "display_data"
    },
    {
     "data": {
      "text/plain": "Validation: 0it [00:00, ?it/s]",
      "application/vnd.jupyter.widget-view+json": {
       "version_major": 2,
       "version_minor": 0,
       "model_id": "06b6021808ed4f12914c714b5673582d"
      }
     },
     "metadata": {},
     "output_type": "display_data"
    },
    {
     "data": {
      "text/plain": "Validation: 0it [00:00, ?it/s]",
      "application/vnd.jupyter.widget-view+json": {
       "version_major": 2,
       "version_minor": 0,
       "model_id": "7069d23001b94f7aac7d234b79f6b2ef"
      }
     },
     "metadata": {},
     "output_type": "display_data"
    },
    {
     "data": {
      "text/plain": "Validation: 0it [00:00, ?it/s]",
      "application/vnd.jupyter.widget-view+json": {
       "version_major": 2,
       "version_minor": 0,
       "model_id": "882470b1d7c94d65900291351f9210cf"
      }
     },
     "metadata": {},
     "output_type": "display_data"
    },
    {
     "data": {
      "text/plain": "Validation: 0it [00:00, ?it/s]",
      "application/vnd.jupyter.widget-view+json": {
       "version_major": 2,
       "version_minor": 0,
       "model_id": "a4d2268322cc449d8bf3d68c28ff8c27"
      }
     },
     "metadata": {},
     "output_type": "display_data"
    },
    {
     "data": {
      "text/plain": "Validation: 0it [00:00, ?it/s]",
      "application/vnd.jupyter.widget-view+json": {
       "version_major": 2,
       "version_minor": 0,
       "model_id": "f7fffae657da4444b74d8a4ba956ba5b"
      }
     },
     "metadata": {},
     "output_type": "display_data"
    },
    {
     "data": {
      "text/plain": "Validation: 0it [00:00, ?it/s]",
      "application/vnd.jupyter.widget-view+json": {
       "version_major": 2,
       "version_minor": 0,
       "model_id": "3e64c7bd18a746c8b55fbd2640cb632a"
      }
     },
     "metadata": {},
     "output_type": "display_data"
    },
    {
     "data": {
      "text/plain": "Validation: 0it [00:00, ?it/s]",
      "application/vnd.jupyter.widget-view+json": {
       "version_major": 2,
       "version_minor": 0,
       "model_id": "b1230f8e34564d73851c6ce547e5316a"
      }
     },
     "metadata": {},
     "output_type": "display_data"
    },
    {
     "data": {
      "text/plain": "Validation: 0it [00:00, ?it/s]",
      "application/vnd.jupyter.widget-view+json": {
       "version_major": 2,
       "version_minor": 0,
       "model_id": "6d1d2eb70e1f4c1eb4efd7419fb7911d"
      }
     },
     "metadata": {},
     "output_type": "display_data"
    },
    {
     "data": {
      "text/plain": "Validation: 0it [00:00, ?it/s]",
      "application/vnd.jupyter.widget-view+json": {
       "version_major": 2,
       "version_minor": 0,
       "model_id": "d3b6daebe5654a12979633320d22b522"
      }
     },
     "metadata": {},
     "output_type": "display_data"
    },
    {
     "data": {
      "text/plain": "Validation: 0it [00:00, ?it/s]",
      "application/vnd.jupyter.widget-view+json": {
       "version_major": 2,
       "version_minor": 0,
       "model_id": "faeada59c494427c9d3e03a52ba593e1"
      }
     },
     "metadata": {},
     "output_type": "display_data"
    },
    {
     "data": {
      "text/plain": "Validation: 0it [00:00, ?it/s]",
      "application/vnd.jupyter.widget-view+json": {
       "version_major": 2,
       "version_minor": 0,
       "model_id": "55e5f3cdd0154e1c81558b50d39b49cb"
      }
     },
     "metadata": {},
     "output_type": "display_data"
    },
    {
     "data": {
      "text/plain": "Validation: 0it [00:00, ?it/s]",
      "application/vnd.jupyter.widget-view+json": {
       "version_major": 2,
       "version_minor": 0,
       "model_id": "ffa3c71cb95248eb9ef432e040f2603c"
      }
     },
     "metadata": {},
     "output_type": "display_data"
    },
    {
     "data": {
      "text/plain": "Validation: 0it [00:00, ?it/s]",
      "application/vnd.jupyter.widget-view+json": {
       "version_major": 2,
       "version_minor": 0,
       "model_id": "94c5b4be31cd4bd89abc8e20f4bd48f1"
      }
     },
     "metadata": {},
     "output_type": "display_data"
    },
    {
     "data": {
      "text/plain": "Validation: 0it [00:00, ?it/s]",
      "application/vnd.jupyter.widget-view+json": {
       "version_major": 2,
       "version_minor": 0,
       "model_id": "a9fedc0462e641b994523b7f1bf1b295"
      }
     },
     "metadata": {},
     "output_type": "display_data"
    },
    {
     "data": {
      "text/plain": "Validation: 0it [00:00, ?it/s]",
      "application/vnd.jupyter.widget-view+json": {
       "version_major": 2,
       "version_minor": 0,
       "model_id": "f831a6c61af44bf888722fff53731f7d"
      }
     },
     "metadata": {},
     "output_type": "display_data"
    },
    {
     "data": {
      "text/plain": "Validation: 0it [00:00, ?it/s]",
      "application/vnd.jupyter.widget-view+json": {
       "version_major": 2,
       "version_minor": 0,
       "model_id": "4dbd51cad7ac457282cbd0164bdf0c7f"
      }
     },
     "metadata": {},
     "output_type": "display_data"
    },
    {
     "data": {
      "text/plain": "Validation: 0it [00:00, ?it/s]",
      "application/vnd.jupyter.widget-view+json": {
       "version_major": 2,
       "version_minor": 0,
       "model_id": "790f41734cc24ab7a976e7993eb15173"
      }
     },
     "metadata": {},
     "output_type": "display_data"
    },
    {
     "data": {
      "text/plain": "Validation: 0it [00:00, ?it/s]",
      "application/vnd.jupyter.widget-view+json": {
       "version_major": 2,
       "version_minor": 0,
       "model_id": "b26f1dfadb8849b791f3cd7f865a9cdc"
      }
     },
     "metadata": {},
     "output_type": "display_data"
    },
    {
     "data": {
      "text/plain": "Validation: 0it [00:00, ?it/s]",
      "application/vnd.jupyter.widget-view+json": {
       "version_major": 2,
       "version_minor": 0,
       "model_id": "73064eea92ed4a9d9a53e282252dc0b3"
      }
     },
     "metadata": {},
     "output_type": "display_data"
    },
    {
     "data": {
      "text/plain": "Validation: 0it [00:00, ?it/s]",
      "application/vnd.jupyter.widget-view+json": {
       "version_major": 2,
       "version_minor": 0,
       "model_id": "62aab09e4bce46fa954765a4bd023d82"
      }
     },
     "metadata": {},
     "output_type": "display_data"
    },
    {
     "data": {
      "text/plain": "Validation: 0it [00:00, ?it/s]",
      "application/vnd.jupyter.widget-view+json": {
       "version_major": 2,
       "version_minor": 0,
       "model_id": "880ef719fda2470f9e70f84cb400d77c"
      }
     },
     "metadata": {},
     "output_type": "display_data"
    },
    {
     "data": {
      "text/plain": "Validation: 0it [00:00, ?it/s]",
      "application/vnd.jupyter.widget-view+json": {
       "version_major": 2,
       "version_minor": 0,
       "model_id": "117a0aa219644e90a911f346fba2a866"
      }
     },
     "metadata": {},
     "output_type": "display_data"
    },
    {
     "data": {
      "text/plain": "Validation: 0it [00:00, ?it/s]",
      "application/vnd.jupyter.widget-view+json": {
       "version_major": 2,
       "version_minor": 0,
       "model_id": "1d2cf463c3a94d3982633e0bfff77a43"
      }
     },
     "metadata": {},
     "output_type": "display_data"
    },
    {
     "data": {
      "text/plain": "Validation: 0it [00:00, ?it/s]",
      "application/vnd.jupyter.widget-view+json": {
       "version_major": 2,
       "version_minor": 0,
       "model_id": "f13ca42f80004ca7a92a4287d4a62c19"
      }
     },
     "metadata": {},
     "output_type": "display_data"
    },
    {
     "data": {
      "text/plain": "Validation: 0it [00:00, ?it/s]",
      "application/vnd.jupyter.widget-view+json": {
       "version_major": 2,
       "version_minor": 0,
       "model_id": "d45d4aa48a8a438d8fe02a14705ce85c"
      }
     },
     "metadata": {},
     "output_type": "display_data"
    },
    {
     "data": {
      "text/plain": "Validation: 0it [00:00, ?it/s]",
      "application/vnd.jupyter.widget-view+json": {
       "version_major": 2,
       "version_minor": 0,
       "model_id": "4dc5981efa98443ca842d6137f198065"
      }
     },
     "metadata": {},
     "output_type": "display_data"
    },
    {
     "data": {
      "text/plain": "Validation: 0it [00:00, ?it/s]",
      "application/vnd.jupyter.widget-view+json": {
       "version_major": 2,
       "version_minor": 0,
       "model_id": "1beb0250b60544b79a92acfdb8525bd7"
      }
     },
     "metadata": {},
     "output_type": "display_data"
    },
    {
     "data": {
      "text/plain": "Validation: 0it [00:00, ?it/s]",
      "application/vnd.jupyter.widget-view+json": {
       "version_major": 2,
       "version_minor": 0,
       "model_id": "ede35d656a884eeb8b2eec3b2b101fcb"
      }
     },
     "metadata": {},
     "output_type": "display_data"
    },
    {
     "data": {
      "text/plain": "Validation: 0it [00:00, ?it/s]",
      "application/vnd.jupyter.widget-view+json": {
       "version_major": 2,
       "version_minor": 0,
       "model_id": "5b01ac3572fa47b8af6d15369c992344"
      }
     },
     "metadata": {},
     "output_type": "display_data"
    },
    {
     "data": {
      "text/plain": "Validation: 0it [00:00, ?it/s]",
      "application/vnd.jupyter.widget-view+json": {
       "version_major": 2,
       "version_minor": 0,
       "model_id": "87f8b7ec13b2442396c82fc938b41f53"
      }
     },
     "metadata": {},
     "output_type": "display_data"
    },
    {
     "data": {
      "text/plain": "Validation: 0it [00:00, ?it/s]",
      "application/vnd.jupyter.widget-view+json": {
       "version_major": 2,
       "version_minor": 0,
       "model_id": "2cbe7d6a5c0b4859afcb05eb1b7da104"
      }
     },
     "metadata": {},
     "output_type": "display_data"
    },
    {
     "data": {
      "text/plain": "Validation: 0it [00:00, ?it/s]",
      "application/vnd.jupyter.widget-view+json": {
       "version_major": 2,
       "version_minor": 0,
       "model_id": "d171e3e35e3e49b19f88fa2e82da88ab"
      }
     },
     "metadata": {},
     "output_type": "display_data"
    },
    {
     "name": "stderr",
     "output_type": "stream",
     "text": [
      "`Trainer.fit` stopped: `max_epochs=35` reached.\n"
     ]
    }
   ],
   "source": [
    "trainer.fit(net, datamodule=dm)"
   ],
   "metadata": {
    "collapsed": false
   }
  },
  {
   "cell_type": "code",
   "execution_count": 4,
   "outputs": [],
   "source": [
    "model = NeuMF.load_from_checkpoint(\"V1_2022_11/lightning_logs/version_17/checkpoints/epoch=0-step=993.ckpt\")"
   ],
   "metadata": {
    "collapsed": false
   }
  },
  {
   "cell_type": "code",
   "execution_count": 5,
   "outputs": [
    {
     "data": {
      "text/plain": "array(0.9585964, dtype=float32)"
     },
     "execution_count": 5,
     "metadata": {},
     "output_type": "execute_result"
    }
   ],
   "source": [
    "model.predict(\"24331923/2021\", \"1001677/0\")"
   ],
   "metadata": {
    "collapsed": false
   }
  }
 ],
 "metadata": {
  "kernelspec": {
   "display_name": "Python 3",
   "language": "python",
   "name": "python3"
  },
  "language_info": {
   "codemirror_mode": {
    "name": "ipython",
    "version": 2
   },
   "file_extension": ".py",
   "mimetype": "text/x-python",
   "name": "python",
   "nbconvert_exporter": "python",
   "pygments_lexer": "ipython2",
   "version": "2.7.6"
  }
 },
 "nbformat": 4,
 "nbformat_minor": 0
}
