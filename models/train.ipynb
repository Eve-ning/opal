{
 "cells": [
  {
   "cell_type": "code",
   "execution_count": 1,
   "metadata": {
    "collapsed": true
   },
   "outputs": [
    {
     "name": "stdout",
     "output_type": "stream",
     "text": [
      "Download Files: \n",
      "\t- D:/Repositories/PycharmProjects/opal/models/../data/2022_11_01_performance_mania_top_1000.tar.bz2\n",
      "Derived Files: \n",
      "\t- D:/Repositories/PycharmProjects/opal/models/../data/2022_11_01_performance_mania_top_1000/___.sql (All SQL Files are extracted)\n",
      "\t- D:/Repositories/PycharmProjects/opal/models/../data/2022_11_01_performance_mania_top_1000/csv/osu_user_stats_mania.csv\n",
      "\t- D:/Repositories/PycharmProjects/opal/models/../data/2022_11_01_performance_mania_top_1000/csv/osu_scores_mania_high.csv\n",
      "\t- D:/Repositories/PycharmProjects/opal/models/../data/2022_11_01_performance_mania_top_1000/csv/osu_beatmap_difficulty.csv\n",
      "\t- D:/Repositories/PycharmProjects/opal/models/../data/2022_11_01_performance_mania_top_1000/csv/osu_beatmaps.csv\n",
      "Proceeding to Download ...\n",
      "File exists, and overwrite is false, skipping\n",
      "Download Files: \n",
      "\t- D:/Repositories/PycharmProjects/opal/models/../data/2022_11_01_performance_mania_top_1000.tar.bz2\n",
      "Derived Files: \n",
      "\t- D:/Repositories/PycharmProjects/opal/models/../data/2022_11_01_performance_mania_top_1000/___.sql (All SQL Files are extracted)\n",
      "\t- D:/Repositories/PycharmProjects/opal/models/../data/2022_11_01_performance_mania_top_1000/csv/osu_user_stats_mania.csv\n",
      "\t- D:/Repositories/PycharmProjects/opal/models/../data/2022_11_01_performance_mania_top_1000/csv/osu_scores_mania_high.csv\n",
      "\t- D:/Repositories/PycharmProjects/opal/models/../data/2022_11_01_performance_mania_top_1000/csv/osu_beatmap_difficulty.csv\n",
      "\t- D:/Repositories/PycharmProjects/opal/models/../data/2022_11_01_performance_mania_top_1000/csv/osu_beatmaps.csv\n",
      "Proceeding to Download ...\n",
      "File exists, and overwrite is false, skipping\n"
     ]
    },
    {
     "name": "stderr",
     "output_type": "stream",
     "text": [
      "D:\\Repositories\\PycharmProjects\\opal\\models\\..\\opal\\score\\datamodule\\score_datamodule.py:77: DtypeWarning: Columns (22) have mixed types. Specify dtype option on import or set low_memory=False.\n",
      "  df_map = pd.read_csv(csv_map)\n",
      "GPU available: True (cuda), used: True\n",
      "TPU available: False, using: 0 TPU cores\n",
      "IPU available: False, using: 0 IPUs\n",
      "HPU available: False, using: 0 HPUs\n"
     ]
    }
   ],
   "source": [
    "import sys\n",
    "\n",
    "from pytorch_lightning.callbacks import EarlyStopping, LearningRateMonitor\n",
    "\n",
    "sys.path.append(\"../\")\n",
    "sys.path.append(\"../opal/data_ppy_sh_to_csv/\")\n",
    "from opal.score.collaborative_filtering import NeuMF\n",
    "from opal.score.datamodule import ScoreDataModule\n",
    "import pytorch_lightning as pl\n",
    "\n",
    "dm = ScoreDataModule(\n",
    "    ds_yyyy_mm=\"2022_11\",\n",
    "    batch_size=2 ** 10,\n",
    "    score_bounds=(5e5, 1e6),\n",
    ")\n",
    "\n",
    "net = NeuMF(\n",
    "    dm, 16, 16, 8,\n",
    "    lr=0.005,\n",
    "    one_cycle_lr_params={\n",
    "        \"pct_start\": 0.1,\n",
    "        \"three_phase\": True,\n",
    "        \"final_div_factor\": 1e6\n",
    "    }\n",
    ")\n",
    "\n",
    "trainer = pl.Trainer(\n",
    "    min_epochs=3,\n",
    "    max_epochs=35,\n",
    "    accelerator='gpu',\n",
    "    default_root_dir=\"V1_2022_11\",\n",
    "    callbacks=[\n",
    "        # EarlyStopping(\n",
    "        #     monitor=\"val_loss\",\n",
    "        #     patience=2,\n",
    "        #     verbose=True,\n",
    "        #     mode='min',\n",
    "        #     divergence_threshold=1\n",
    "        # ),\n",
    "        LearningRateMonitor()\n",
    "    ]\n",
    ")"
   ]
  },
  {
   "cell_type": "code",
   "execution_count": 2,
   "outputs": [
    {
     "name": "stdout",
     "output_type": "stream",
     "text": [
      "Download Files: \n",
      "\t- D:/Repositories/PycharmProjects/opal/models/../data/2022_11_01_performance_mania_top_1000.tar.bz2\n",
      "Derived Files: \n",
      "\t- D:/Repositories/PycharmProjects/opal/models/../data/2022_11_01_performance_mania_top_1000/___.sql (All SQL Files are extracted)\n",
      "\t- D:/Repositories/PycharmProjects/opal/models/../data/2022_11_01_performance_mania_top_1000/csv/osu_user_stats_mania.csv\n",
      "\t- D:/Repositories/PycharmProjects/opal/models/../data/2022_11_01_performance_mania_top_1000/csv/osu_scores_mania_high.csv\n",
      "\t- D:/Repositories/PycharmProjects/opal/models/../data/2022_11_01_performance_mania_top_1000/csv/osu_beatmap_difficulty.csv\n",
      "\t- D:/Repositories/PycharmProjects/opal/models/../data/2022_11_01_performance_mania_top_1000/csv/osu_beatmaps.csv\n",
      "Proceeding to Download ...\n",
      "File exists, and overwrite is false, skipping\n",
      "Download Files: \n",
      "\t- D:/Repositories/PycharmProjects/opal/models/../data/2022_11_01_performance_mania_top_1000.tar.bz2\n",
      "Derived Files: \n",
      "\t- D:/Repositories/PycharmProjects/opal/models/../data/2022_11_01_performance_mania_top_1000/___.sql (All SQL Files are extracted)\n",
      "\t- D:/Repositories/PycharmProjects/opal/models/../data/2022_11_01_performance_mania_top_1000/csv/osu_user_stats_mania.csv\n",
      "\t- D:/Repositories/PycharmProjects/opal/models/../data/2022_11_01_performance_mania_top_1000/csv/osu_scores_mania_high.csv\n",
      "\t- D:/Repositories/PycharmProjects/opal/models/../data/2022_11_01_performance_mania_top_1000/csv/osu_beatmap_difficulty.csv\n",
      "\t- D:/Repositories/PycharmProjects/opal/models/../data/2022_11_01_performance_mania_top_1000/csv/osu_beatmaps.csv\n",
      "Proceeding to Download ...\n",
      "File exists, and overwrite is false, skipping\n"
     ]
    },
    {
     "name": "stderr",
     "output_type": "stream",
     "text": [
      "D:\\Repositories\\PycharmProjects\\opal\\models\\..\\opal\\score\\datamodule\\score_datamodule.py:77: DtypeWarning: Columns (22) have mixed types. Specify dtype option on import or set low_memory=False.\n",
      "  df_map = pd.read_csv(csv_map)\n",
      "LOCAL_RANK: 0 - CUDA_VISIBLE_DEVICES: [0]\n",
      "\n",
      "  | Name  | Type        | Params\n",
      "--------------------------------------\n",
      "0 | model | NeuMFModule | 539 K \n",
      "1 | loss  | MSELoss     | 0     \n",
      "--------------------------------------\n",
      "539 K     Trainable params\n",
      "0         Non-trainable params\n",
      "539 K     Total params\n",
      "2.158     Total estimated model params size (MB)\n"
     ]
    },
    {
     "data": {
      "text/plain": "Sanity Checking: 0it [00:00, ?it/s]",
      "application/vnd.jupyter.widget-view+json": {
       "version_major": 2,
       "version_minor": 0,
       "model_id": "4036cf68d1304147a54db7f464a1a9d7"
      }
     },
     "metadata": {},
     "output_type": "display_data"
    },
    {
     "name": "stderr",
     "output_type": "stream",
     "text": [
      "D:\\ProgramFiles\\Anaconda\\envs\\opal\\lib\\site-packages\\pytorch_lightning\\trainer\\connectors\\data_connector.py:224: PossibleUserWarning: The dataloader, val_dataloader 0, does not have many workers which may be a bottleneck. Consider increasing the value of the `num_workers` argument` (try 16 which is the number of cpus on this machine) in the `DataLoader` init to improve performance.\n",
      "  rank_zero_warn(\n",
      "D:\\ProgramFiles\\Anaconda\\envs\\opal\\lib\\site-packages\\pytorch_lightning\\trainer\\connectors\\data_connector.py:224: PossibleUserWarning: The dataloader, train_dataloader, does not have many workers which may be a bottleneck. Consider increasing the value of the `num_workers` argument` (try 16 which is the number of cpus on this machine) in the `DataLoader` init to improve performance.\n",
      "  rank_zero_warn(\n"
     ]
    },
    {
     "data": {
      "text/plain": "Training: 0it [00:00, ?it/s]",
      "application/vnd.jupyter.widget-view+json": {
       "version_major": 2,
       "version_minor": 0,
       "model_id": "5d6486f856584c3ea007c8ff51752e6d"
      }
     },
     "metadata": {},
     "output_type": "display_data"
    },
    {
     "data": {
      "text/plain": "Validation: 0it [00:00, ?it/s]",
      "application/vnd.jupyter.widget-view+json": {
       "version_major": 2,
       "version_minor": 0,
       "model_id": "667a9f0768ce4c2b8393e5cabd5e3f95"
      }
     },
     "metadata": {},
     "output_type": "display_data"
    },
    {
     "data": {
      "text/plain": "Validation: 0it [00:00, ?it/s]",
      "application/vnd.jupyter.widget-view+json": {
       "version_major": 2,
       "version_minor": 0,
       "model_id": "3750101a938c4d3191ca0450eadf0d02"
      }
     },
     "metadata": {},
     "output_type": "display_data"
    },
    {
     "data": {
      "text/plain": "Validation: 0it [00:00, ?it/s]",
      "application/vnd.jupyter.widget-view+json": {
       "version_major": 2,
       "version_minor": 0,
       "model_id": "666f5e997db24a0b9aed2c6034f645e9"
      }
     },
     "metadata": {},
     "output_type": "display_data"
    },
    {
     "data": {
      "text/plain": "Validation: 0it [00:00, ?it/s]",
      "application/vnd.jupyter.widget-view+json": {
       "version_major": 2,
       "version_minor": 0,
       "model_id": "ac91e993da8a4d5fa4377a24954bc2e3"
      }
     },
     "metadata": {},
     "output_type": "display_data"
    },
    {
     "data": {
      "text/plain": "Validation: 0it [00:00, ?it/s]",
      "application/vnd.jupyter.widget-view+json": {
       "version_major": 2,
       "version_minor": 0,
       "model_id": "6d89077464fe4a609397af457a05a8c2"
      }
     },
     "metadata": {},
     "output_type": "display_data"
    },
    {
     "data": {
      "text/plain": "Validation: 0it [00:00, ?it/s]",
      "application/vnd.jupyter.widget-view+json": {
       "version_major": 2,
       "version_minor": 0,
       "model_id": "5facc6cabf5b44f09285864ee0c8a4e6"
      }
     },
     "metadata": {},
     "output_type": "display_data"
    },
    {
     "data": {
      "text/plain": "Validation: 0it [00:00, ?it/s]",
      "application/vnd.jupyter.widget-view+json": {
       "version_major": 2,
       "version_minor": 0,
       "model_id": "a18e6f8b1b9c4082857a27c20ff2b149"
      }
     },
     "metadata": {},
     "output_type": "display_data"
    },
    {
     "data": {
      "text/plain": "Validation: 0it [00:00, ?it/s]",
      "application/vnd.jupyter.widget-view+json": {
       "version_major": 2,
       "version_minor": 0,
       "model_id": "9803f0bfc3ee42d9bd9a88567189645b"
      }
     },
     "metadata": {},
     "output_type": "display_data"
    },
    {
     "data": {
      "text/plain": "Validation: 0it [00:00, ?it/s]",
      "application/vnd.jupyter.widget-view+json": {
       "version_major": 2,
       "version_minor": 0,
       "model_id": "a49a3f07a8334e71b148701fed7222c1"
      }
     },
     "metadata": {},
     "output_type": "display_data"
    },
    {
     "data": {
      "text/plain": "Validation: 0it [00:00, ?it/s]",
      "application/vnd.jupyter.widget-view+json": {
       "version_major": 2,
       "version_minor": 0,
       "model_id": "af4602f6b19c4395aaa601626dafbc34"
      }
     },
     "metadata": {},
     "output_type": "display_data"
    },
    {
     "data": {
      "text/plain": "Validation: 0it [00:00, ?it/s]",
      "application/vnd.jupyter.widget-view+json": {
       "version_major": 2,
       "version_minor": 0,
       "model_id": "b67c7629d11b48ef9b9ce3bc06f3915a"
      }
     },
     "metadata": {},
     "output_type": "display_data"
    },
    {
     "data": {
      "text/plain": "Validation: 0it [00:00, ?it/s]",
      "application/vnd.jupyter.widget-view+json": {
       "version_major": 2,
       "version_minor": 0,
       "model_id": "d908667cc5784fcc91f9894defeb3855"
      }
     },
     "metadata": {},
     "output_type": "display_data"
    },
    {
     "data": {
      "text/plain": "Validation: 0it [00:00, ?it/s]",
      "application/vnd.jupyter.widget-view+json": {
       "version_major": 2,
       "version_minor": 0,
       "model_id": "b035dc81956b4db89187f1ada2344b39"
      }
     },
     "metadata": {},
     "output_type": "display_data"
    },
    {
     "data": {
      "text/plain": "Validation: 0it [00:00, ?it/s]",
      "application/vnd.jupyter.widget-view+json": {
       "version_major": 2,
       "version_minor": 0,
       "model_id": "07576723c2cd4c269385aeb2cb095b34"
      }
     },
     "metadata": {},
     "output_type": "display_data"
    },
    {
     "data": {
      "text/plain": "Validation: 0it [00:00, ?it/s]",
      "application/vnd.jupyter.widget-view+json": {
       "version_major": 2,
       "version_minor": 0,
       "model_id": "4d9a66eaa22d4a93b1688b127f410aab"
      }
     },
     "metadata": {},
     "output_type": "display_data"
    },
    {
     "data": {
      "text/plain": "Validation: 0it [00:00, ?it/s]",
      "application/vnd.jupyter.widget-view+json": {
       "version_major": 2,
       "version_minor": 0,
       "model_id": "78af4424b3bd4169b11fc699c36d5d9b"
      }
     },
     "metadata": {},
     "output_type": "display_data"
    },
    {
     "data": {
      "text/plain": "Validation: 0it [00:00, ?it/s]",
      "application/vnd.jupyter.widget-view+json": {
       "version_major": 2,
       "version_minor": 0,
       "model_id": "f8436a0b3a274af78223a72abb5485ef"
      }
     },
     "metadata": {},
     "output_type": "display_data"
    },
    {
     "data": {
      "text/plain": "Validation: 0it [00:00, ?it/s]",
      "application/vnd.jupyter.widget-view+json": {
       "version_major": 2,
       "version_minor": 0,
       "model_id": "9b7b18a9d7be41189773f07af510be48"
      }
     },
     "metadata": {},
     "output_type": "display_data"
    },
    {
     "data": {
      "text/plain": "Validation: 0it [00:00, ?it/s]",
      "application/vnd.jupyter.widget-view+json": {
       "version_major": 2,
       "version_minor": 0,
       "model_id": "05f8d03cdf6a4a4f959ebfcddec728dd"
      }
     },
     "metadata": {},
     "output_type": "display_data"
    },
    {
     "data": {
      "text/plain": "Validation: 0it [00:00, ?it/s]",
      "application/vnd.jupyter.widget-view+json": {
       "version_major": 2,
       "version_minor": 0,
       "model_id": "aa37d22bc77e4fed9c6a264dd1a7c38c"
      }
     },
     "metadata": {},
     "output_type": "display_data"
    },
    {
     "data": {
      "text/plain": "Validation: 0it [00:00, ?it/s]",
      "application/vnd.jupyter.widget-view+json": {
       "version_major": 2,
       "version_minor": 0,
       "model_id": "4181f7a5488c461d861943f77de26a3a"
      }
     },
     "metadata": {},
     "output_type": "display_data"
    },
    {
     "data": {
      "text/plain": "Validation: 0it [00:00, ?it/s]",
      "application/vnd.jupyter.widget-view+json": {
       "version_major": 2,
       "version_minor": 0,
       "model_id": "0d072f25e064478e911174763d289c2b"
      }
     },
     "metadata": {},
     "output_type": "display_data"
    },
    {
     "data": {
      "text/plain": "Validation: 0it [00:00, ?it/s]",
      "application/vnd.jupyter.widget-view+json": {
       "version_major": 2,
       "version_minor": 0,
       "model_id": "6103a21a70db41349f54bd5db9bb3dc2"
      }
     },
     "metadata": {},
     "output_type": "display_data"
    },
    {
     "data": {
      "text/plain": "Validation: 0it [00:00, ?it/s]",
      "application/vnd.jupyter.widget-view+json": {
       "version_major": 2,
       "version_minor": 0,
       "model_id": "6de8cff0a4c54426b5de84e1dd36055f"
      }
     },
     "metadata": {},
     "output_type": "display_data"
    },
    {
     "data": {
      "text/plain": "Validation: 0it [00:00, ?it/s]",
      "application/vnd.jupyter.widget-view+json": {
       "version_major": 2,
       "version_minor": 0,
       "model_id": "571fde3af141491b894cdc6bb682a131"
      }
     },
     "metadata": {},
     "output_type": "display_data"
    },
    {
     "data": {
      "text/plain": "Validation: 0it [00:00, ?it/s]",
      "application/vnd.jupyter.widget-view+json": {
       "version_major": 2,
       "version_minor": 0,
       "model_id": "879affcf130340498b96fae511e5f1d5"
      }
     },
     "metadata": {},
     "output_type": "display_data"
    },
    {
     "data": {
      "text/plain": "Validation: 0it [00:00, ?it/s]",
      "application/vnd.jupyter.widget-view+json": {
       "version_major": 2,
       "version_minor": 0,
       "model_id": "a2347a9cf59e4776a0bf7a12b7fa1559"
      }
     },
     "metadata": {},
     "output_type": "display_data"
    },
    {
     "data": {
      "text/plain": "Validation: 0it [00:00, ?it/s]",
      "application/vnd.jupyter.widget-view+json": {
       "version_major": 2,
       "version_minor": 0,
       "model_id": "15f5d0765e1444e1b9f5ca8189d078e8"
      }
     },
     "metadata": {},
     "output_type": "display_data"
    },
    {
     "data": {
      "text/plain": "Validation: 0it [00:00, ?it/s]",
      "application/vnd.jupyter.widget-view+json": {
       "version_major": 2,
       "version_minor": 0,
       "model_id": "08b1b15da2cb4855afeda5752c135e18"
      }
     },
     "metadata": {},
     "output_type": "display_data"
    },
    {
     "data": {
      "text/plain": "Validation: 0it [00:00, ?it/s]",
      "application/vnd.jupyter.widget-view+json": {
       "version_major": 2,
       "version_minor": 0,
       "model_id": "987ce436a7ae403080743687d1e77bec"
      }
     },
     "metadata": {},
     "output_type": "display_data"
    },
    {
     "data": {
      "text/plain": "Validation: 0it [00:00, ?it/s]",
      "application/vnd.jupyter.widget-view+json": {
       "version_major": 2,
       "version_minor": 0,
       "model_id": "6b37b1eb1dad40bcb7c75eb0a603d71c"
      }
     },
     "metadata": {},
     "output_type": "display_data"
    },
    {
     "data": {
      "text/plain": "Validation: 0it [00:00, ?it/s]",
      "application/vnd.jupyter.widget-view+json": {
       "version_major": 2,
       "version_minor": 0,
       "model_id": "e96513ff6ce0469bb9b5a5a7d9d42ed1"
      }
     },
     "metadata": {},
     "output_type": "display_data"
    },
    {
     "data": {
      "text/plain": "Validation: 0it [00:00, ?it/s]",
      "application/vnd.jupyter.widget-view+json": {
       "version_major": 2,
       "version_minor": 0,
       "model_id": "9b5860b38f07430b9b56bf1d6255a090"
      }
     },
     "metadata": {},
     "output_type": "display_data"
    },
    {
     "data": {
      "text/plain": "Validation: 0it [00:00, ?it/s]",
      "application/vnd.jupyter.widget-view+json": {
       "version_major": 2,
       "version_minor": 0,
       "model_id": "925945fd5c5242009573db651c928a78"
      }
     },
     "metadata": {},
     "output_type": "display_data"
    },
    {
     "data": {
      "text/plain": "Validation: 0it [00:00, ?it/s]",
      "application/vnd.jupyter.widget-view+json": {
       "version_major": 2,
       "version_minor": 0,
       "model_id": "22293f66543b4df0a7c2b2b885680286"
      }
     },
     "metadata": {},
     "output_type": "display_data"
    },
    {
     "name": "stderr",
     "output_type": "stream",
     "text": [
      "`Trainer.fit` stopped: `max_epochs=35` reached.\n"
     ]
    }
   ],
   "source": [
    "trainer.fit(net, datamodule=dm)"
   ],
   "metadata": {
    "collapsed": false
   }
  },
  {
   "cell_type": "code",
   "execution_count": null,
   "outputs": [],
   "source": [],
   "metadata": {
    "collapsed": false
   }
  },
  {
   "cell_type": "code",
   "execution_count": 2,
   "outputs": [],
   "source": [],
   "metadata": {
    "collapsed": false
   }
  }
 ],
 "metadata": {
  "kernelspec": {
   "display_name": "Python 3",
   "language": "python",
   "name": "python3"
  },
  "language_info": {
   "codemirror_mode": {
    "name": "ipython",
    "version": 2
   },
   "file_extension": ".py",
   "mimetype": "text/x-python",
   "name": "python",
   "nbconvert_exporter": "python",
   "pygments_lexer": "ipython2",
   "version": "2.7.6"
  }
 },
 "nbformat": 4,
 "nbformat_minor": 0
}
