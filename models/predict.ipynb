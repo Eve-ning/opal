{
 "cells": [
  {
   "cell_type": "markdown",
   "source": [
    "# Prediction of Scores for Map Ranking\n",
    "\n",
    "We'll proceed with using the module to predict all unknown scores in order to rank maps.\n",
    "\n",
    "We have sufficient evidence of decent accuracy prediction of accuracies, but, the translation of these accuracies to map ranking will require research."
   ],
   "metadata": {
    "collapsed": false
   }
  },
  {
   "cell_type": "markdown",
   "source": [
    "## Preparation\n",
    "\n",
    "As usual, we'll load relevant libraries and ...\n",
    "- Load our test data\n",
    "- Load our model"
   ],
   "metadata": {
    "collapsed": false
   }
  },
  {
   "cell_type": "code",
   "execution_count": 1,
   "outputs": [
    {
     "name": "stdout",
     "output_type": "stream",
     "text": [
      "Download Files: \n",
      "\t- E:/Repositories/PycharmProjects/opal/models/../data/2022_12_01_performance_mania_top_1000.tar.bz2\n",
      "Derived Files: \n",
      "\t- E:/Repositories/PycharmProjects/opal/models/../data/2022_12_01_performance_mania_top_1000/___.sql (All SQL Files are extracted)\n",
      "\t- E:/Repositories/PycharmProjects/opal/models/../data/2022_12_01_performance_mania_top_1000/csv/osu_user_stats_mania.csv\n",
      "\t- E:/Repositories/PycharmProjects/opal/models/../data/2022_12_01_performance_mania_top_1000/csv/osu_scores_mania_high.csv\n",
      "\t- E:/Repositories/PycharmProjects/opal/models/../data/2022_12_01_performance_mania_top_1000/csv/osu_beatmap_difficulty.csv\n",
      "\t- E:/Repositories/PycharmProjects/opal/models/../data/2022_12_01_performance_mania_top_1000/csv/osu_beatmaps.csv\n",
      "Proceeding to Download ...\n",
      "File exists, and overwrite is false, skipping\n"
     ]
    },
    {
     "name": "stderr",
     "output_type": "stream",
     "text": [
      "E:\\Repositories\\PycharmProjects\\opal\\models\\..\\opal\\score\\dataset\\datamodule.py:74: DtypeWarning: Columns (22) have mixed types. Specify dtype option on import or set low_memory=False.\n",
      "  df_map = pd.read_csv(csv_map)\n"
     ]
    }
   ],
   "source": [
    "import sys\n",
    "\n",
    "sys.path.append(\"../opal/data_ppy_sh_to_csv/\")\n",
    "sys.path.append(\"../\")\n",
    "\n",
    "from opal.score.collaborative_filtering.lit_neu_mf_net import LitNeuMFNet\n",
    "from opal.score.dataset.datamodule import ScoreDataModule\n",
    "\n",
    "dm = ScoreDataModule(\n",
    "    ds_yyyy_mm=\"2022_12\", batch_size=256, m_min_support=50, u_min_support=50,\n",
    "    score_bounds=(7.5e5, 1e6),\n",
    ")\n",
    "dm.setup()"
   ],
   "metadata": {
    "collapsed": false
   }
  },
  {
   "cell_type": "code",
   "execution_count": 2,
   "outputs": [
    {
     "data": {
      "text/plain": "LitNeuMFNet(\n  (model): NeuMFNet(\n    (u_mf_emb): Embedding(4007, 64)\n    (m_mf_emb): Embedding(6189, 64)\n    (mf_net): Sequential(\n      (0): Linear(in_features=64, out_features=64, bias=True)\n      (1): ReLU()\n      (2): Dropout(p=0.1, inplace=False)\n      (3): Linear(in_features=64, out_features=64, bias=True)\n      (4): ReLU()\n      (5): Dropout(p=0.1, inplace=False)\n    )\n    (u_mlp_emb): Embedding(4007, 64)\n    (m_mlp_emb): Embedding(6189, 64)\n    (mlp_net): Sequential(\n      (0): Linear(in_features=128, out_features=512, bias=True)\n      (1): ReLU()\n      (2): Dropout(p=0.1, inplace=False)\n      (3): Linear(in_features=512, out_features=256, bias=True)\n      (4): ReLU()\n      (5): Dropout(p=0.1, inplace=False)\n      (6): Linear(in_features=256, out_features=128, bias=True)\n      (7): ReLU()\n      (8): Dropout(p=0.1, inplace=False)\n      (9): Linear(in_features=128, out_features=64, bias=True)\n      (10): ReLU()\n      (11): Dropout(p=0.1, inplace=False)\n      (12): Linear(in_features=64, out_features=32, bias=True)\n      (13): ReLU()\n      (14): Dropout(p=0.1, inplace=False)\n      (15): Linear(in_features=32, out_features=8, bias=True)\n    )\n    (neu_mf_net): Sequential(\n      (0): Linear(in_features=72, out_features=1, bias=True)\n      (1): Tanh()\n    )\n  )\n  (loss): MSELoss()\n)"
     },
     "execution_count": 2,
     "metadata": {},
     "output_type": "execute_result"
    }
   ],
   "source": [
    "net = LitNeuMFNet.load_from_checkpoint(\n",
    "    \"tiny/checkpoints/epoch=2-step=6144.ckpt\",\n",
    "    # \"version_256_256_32_acc/checkpoints/epoch=6-step=14336.ckpt\",\n",
    "    uid_no=dm.n_uid,\n",
    "    mid_no=dm.n_mid,\n",
    "\n",
    "    mf_emb_dim=64,\n",
    "    mlp_emb_dim=64,\n",
    "    mlp_chn_out=8,\n",
    "    # mf_emb_dim=256,\n",
    "    # mlp_emb_dim=256,\n",
    "    # mlp_chn_out=32,\n",
    "    scaler=dm.scaler_accuracy,\n",
    "    lr=0.005\n",
    ")\n",
    "# Set to evaluate mode (no gradient update)\n",
    "net.eval()"
   ],
   "metadata": {
    "collapsed": false
   }
  },
  {
   "cell_type": "markdown",
   "source": [
    "## Yielding unknown scores\n"
   ],
   "metadata": {
    "collapsed": false
   }
  },
  {
   "cell_type": "code",
   "execution_count": 94,
   "outputs": [],
   "source": [
    "df = dm.df"
   ],
   "metadata": {
    "collapsed": false
   }
  },
  {
   "cell_type": "code",
   "execution_count": 95,
   "outputs": [
    {
     "data": {
      "text/plain": "Index(['difficultyrating', 'diff_overall', 'diff_size', 'version',\n       'beatmap_id', 'filename', 'user_id', 'year', 'score', 'accuracy',\n       'speed', 'uid', 'mid', 'uid_le', 'mid_le'],\n      dtype='object')"
     },
     "execution_count": 95,
     "metadata": {},
     "output_type": "execute_result"
    }
   ],
   "source": [
    "df.columns"
   ],
   "metadata": {
    "collapsed": false
   }
  },
  {
   "cell_type": "code",
   "execution_count": 96,
   "outputs": [],
   "source": [
    "df = df[(df['speed'] == 0) & (df['year'] == '2019')].astype({\n",
    "    'beatmap_id': int,\n",
    "    'user_id': int\n",
    "}).set_index(['beatmap_id', 'user_id'])"
   ],
   "metadata": {
    "collapsed": false
   }
  },
  {
   "cell_type": "code",
   "execution_count": 97,
   "outputs": [],
   "source": [
    "df_g = df.groupby(['beatmap_id', 'user_id']).agg({'accuracy': 'mean'})"
   ],
   "metadata": {
    "collapsed": false
   }
  },
  {
   "cell_type": "code",
   "execution_count": 98,
   "outputs": [],
   "source": [
    "df_p = df_g.reset_index().astype({\n",
    "    'beatmap_id': str,\n",
    "    'user_id': str\n",
    "}\n",
    ").assign(\n",
    "    beatmap_id=lambda x: x.beatmap_id + \"/0\",\n",
    "    user_id=lambda x: x.user_id + \"/2019\"\n",
    ").pivot(index='beatmap_id', columns='user_id', values='accuracy')"
   ],
   "metadata": {
    "collapsed": false
   }
  },
  {
   "cell_type": "code",
   "execution_count": 99,
   "outputs": [],
   "source": [
    "df_m = df_p.reset_index().melt(id_vars='beatmap_id', value_name='accuracy')\n",
    "# df_m = df_m[df_m['accuracy'].isna()]"
   ],
   "metadata": {
    "collapsed": false
   }
  },
  {
   "cell_type": "code",
   "execution_count": 100,
   "outputs": [
    {
     "name": "stderr",
     "output_type": "stream",
     "text": [
      "E:\\ProgramFiles\\Anaconda\\envs\\opal\\lib\\site-packages\\sklearn\\preprocessing\\_label.py:133: DataConversionWarning: A column-vector y was passed when a 1d array was expected. Please change the shape of y to (n_samples, ), for example using ravel().\n",
      "  y = column_or_1d(y, warn=True)\n",
      "E:\\ProgramFiles\\Anaconda\\envs\\opal\\lib\\site-packages\\sklearn\\preprocessing\\_label.py:133: DataConversionWarning: A column-vector y was passed when a 1d array was expected. Please change the shape of y to (n_samples, ), for example using ravel().\n",
      "  y = column_or_1d(y, warn=True)\n"
     ]
    }
   ],
   "source": [
    "df_m['mid'] = dm.mid_le.transform(df_m[['beatmap_id']].values)\n",
    "df_m['uid'] = dm.uid_le.transform(df_m[['user_id']].values)"
   ],
   "metadata": {
    "collapsed": false
   }
  },
  {
   "cell_type": "code",
   "execution_count": 101,
   "outputs": [
    {
     "name": "stderr",
     "output_type": "stream",
     "text": [
      "GPU available: False, used: False\n",
      "TPU available: False, using: 0 TPU cores\n",
      "IPU available: False, using: 0 IPUs\n",
      "HPU available: False, using: 0 HPUs\n",
      "Missing logger folder: E:\\Repositories\\PycharmProjects\\opal\\models\\lightning_logs\n",
      "E:\\ProgramFiles\\Anaconda\\envs\\opal\\lib\\site-packages\\pytorch_lightning\\trainer\\connectors\\data_connector.py:224: PossibleUserWarning: The dataloader, predict_dataloader 0, does not have many workers which may be a bottleneck. Consider increasing the value of the `num_workers` argument` (try 8 which is the number of cpus on this machine) in the `DataLoader` init to improve performance.\n",
      "  rank_zero_warn(\n"
     ]
    },
    {
     "data": {
      "text/plain": "Predicting: 0it [00:00, ?it/s]",
      "application/vnd.jupyter.widget-view+json": {
       "version_major": 2,
       "version_minor": 0,
       "model_id": "f4210976be674826b720fb96b5c634a9"
      }
     },
     "metadata": {},
     "output_type": "display_data"
    }
   ],
   "source": [
    "import torch\n",
    "\n",
    "from torch.utils.data import TensorDataset, DataLoader\n",
    "import pytorch_lightning as pl\n",
    "\n",
    "ar_uid = torch.tensor(df_m[['uid']].values)\n",
    "ar_mid = torch.tensor(df_m[['mid']].values)\n",
    "ar_dummy = torch.ones_like(ar_uid, dtype=float)\n",
    "ds = TensorDataset(ar_uid, ar_mid, ar_dummy)\n",
    "dl = DataLoader(ds, batch_size=128)\n",
    "\n",
    "trainer = pl.Trainer(\n",
    "    accelerator='cpu',\n",
    "    # limit_predict_batches=16,\n",
    ")\n",
    "\n",
    "pred = trainer.predict(net, dataloaders=dl)"
   ],
   "metadata": {
    "collapsed": false
   }
  },
  {
   "cell_type": "code",
   "execution_count": 102,
   "outputs": [],
   "source": [
    "import numpy as np\n",
    "\n",
    "df_m['pred'] = np.concatenate([p for p, _ in pred])[:, 0]"
   ],
   "metadata": {
    "collapsed": false
   }
  },
  {
   "cell_type": "code",
   "execution_count": 119,
   "outputs": [],
   "source": [
    "df_pp = df_m.pivot(index='beatmap_id', columns='user_id', values=['pred']).mean(axis=1).rename(\n",
    "    'accuracy'\n",
    ").reset_index().assign(beatmap_id=lambda x: x.beatmap_id.str[:-2].astype(int))"
   ],
   "metadata": {
    "collapsed": false
   }
  },
  {
   "cell_type": "markdown",
   "source": [],
   "metadata": {
    "collapsed": false
   }
  },
  {
   "cell_type": "code",
   "execution_count": 145,
   "outputs": [],
   "source": [
    "df_pred = df.merge(df_pp, on='beatmap_id')[\n",
    "    ['difficultyrating', 'filename', 'accuracy_y']\n",
    "].drop_duplicates().assign(\n",
    "    cf_rank=lambda x: x['accuracy_y'].rank().astype(int),\n",
    "    sr_rank=lambda x: x['difficultyrating'].rank(ascending=False).astype(int),\n",
    "    filename=lambda x: x['filename'].str[:-4]\n",
    ").drop('accuracy_y', axis=1).rename({\n",
    "    'difficultyrating': 'sr',\n",
    "    'filename': 'beatmap'\n",
    "}, axis=1).assign(\n",
    "    change=lambda x: x.sr_rank - x.cf_rank\n",
    ")[['cf_rank', 'sr_rank', 'change', 'sr', 'beatmap']].sort_values('cf_rank')"
   ],
   "metadata": {
    "collapsed": false
   }
  },
  {
   "cell_type": "code",
   "execution_count": 147,
   "outputs": [],
   "source": [
    "df_pred.to_clipboard(index=False)"
   ],
   "metadata": {
    "collapsed": false
   }
  }
 ],
 "metadata": {
  "kernelspec": {
   "display_name": "Python 3",
   "language": "python",
   "name": "python3"
  },
  "language_info": {
   "codemirror_mode": {
    "name": "ipython",
    "version": 2
   },
   "file_extension": ".py",
   "mimetype": "text/x-python",
   "name": "python",
   "nbconvert_exporter": "python",
   "pygments_lexer": "ipython2",
   "version": "2.7.6"
  }
 },
 "nbformat": 4,
 "nbformat_minor": 0
}
